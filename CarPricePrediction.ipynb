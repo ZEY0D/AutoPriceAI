{
  "nbformat": 4,
  "nbformat_minor": 0,
  "metadata": {
    "colab": {
      "provenance": [],
      "authorship_tag": "ABX9TyMaVSTUrNlHRfP1avIYilfR",
      "include_colab_link": true
    },
    "kernelspec": {
      "name": "python3",
      "display_name": "Python 3"
    },
    "language_info": {
      "name": "python"
    }
  },
  "cells": [
    {
      "cell_type": "markdown",
      "metadata": {
        "id": "view-in-github",
        "colab_type": "text"
      },
      "source": [
        "<a href=\"https://colab.research.google.com/github/ZEY0D/AutoPriceAI/blob/main/CarPricePrediction.ipynb\" target=\"_parent\"><img src=\"https://colab.research.google.com/assets/colab-badge.svg\" alt=\"Open In Colab\"/></a>"
      ]
    },
    {
      "cell_type": "markdown",
      "source": [
        "import the necessary libraries"
      ],
      "metadata": {
        "id": "VbTYDIaj7QMg"
      }
    },
    {
      "cell_type": "code",
      "execution_count": 30,
      "metadata": {
        "id": "6ZUKy56g0tDi"
      },
      "outputs": [],
      "source": [
        "import tensorflow as tf\n",
        "import pandas as pd\n",
        "import seaborn as sns\n",
        "from tensorflow.keras.layers import Normalization,Dense,InputLayer\n",
        "from tensorflow.keras.losses import MeanSquaredError, MeanAbsoluteError, Huber\n",
        "from tensorflow.keras.metrics import RootMeanSquaredError\n",
        "from tensorflow.keras.optimizers import Adam\n",
        "import matplotlib.pyplot as plt"
      ]
    },
    {
      "cell_type": "markdown",
      "source": [
        "Dataset Preparation"
      ],
      "metadata": {
        "id": "1R7-v4tdRfH7"
      }
    },
    {
      "cell_type": "markdown",
      "source": [
        "load the dataset csv file into colab"
      ],
      "metadata": {
        "id": "6eeFCYap7Lh2"
      }
    },
    {
      "cell_type": "code",
      "source": [
        "from google.colab import files\n",
        "\n",
        "# This will open a file picker — select your 'train.csv' manually from your PC.\n",
        "uploaded = files.upload()\n"
      ],
      "metadata": {
        "id": "N_mxJZ3u3fqO",
        "colab": {
          "base_uri": "https://localhost:8080/",
          "height": 73
        },
        "outputId": "c0469443-a152-4a9b-c10f-66a757dcd458"
      },
      "execution_count": 5,
      "outputs": [
        {
          "output_type": "display_data",
          "data": {
            "text/plain": [
              "<IPython.core.display.HTML object>"
            ],
            "text/html": [
              "\n",
              "     <input type=\"file\" id=\"files-158508df-77d2-4027-99cc-27c349ae5149\" name=\"files[]\" multiple disabled\n",
              "        style=\"border:none\" />\n",
              "     <output id=\"result-158508df-77d2-4027-99cc-27c349ae5149\">\n",
              "      Upload widget is only available when the cell has been executed in the\n",
              "      current browser session. Please rerun this cell to enable.\n",
              "      </output>\n",
              "      <script>// Copyright 2017 Google LLC\n",
              "//\n",
              "// Licensed under the Apache License, Version 2.0 (the \"License\");\n",
              "// you may not use this file except in compliance with the License.\n",
              "// You may obtain a copy of the License at\n",
              "//\n",
              "//      http://www.apache.org/licenses/LICENSE-2.0\n",
              "//\n",
              "// Unless required by applicable law or agreed to in writing, software\n",
              "// distributed under the License is distributed on an \"AS IS\" BASIS,\n",
              "// WITHOUT WARRANTIES OR CONDITIONS OF ANY KIND, either express or implied.\n",
              "// See the License for the specific language governing permissions and\n",
              "// limitations under the License.\n",
              "\n",
              "/**\n",
              " * @fileoverview Helpers for google.colab Python module.\n",
              " */\n",
              "(function(scope) {\n",
              "function span(text, styleAttributes = {}) {\n",
              "  const element = document.createElement('span');\n",
              "  element.textContent = text;\n",
              "  for (const key of Object.keys(styleAttributes)) {\n",
              "    element.style[key] = styleAttributes[key];\n",
              "  }\n",
              "  return element;\n",
              "}\n",
              "\n",
              "// Max number of bytes which will be uploaded at a time.\n",
              "const MAX_PAYLOAD_SIZE = 100 * 1024;\n",
              "\n",
              "function _uploadFiles(inputId, outputId) {\n",
              "  const steps = uploadFilesStep(inputId, outputId);\n",
              "  const outputElement = document.getElementById(outputId);\n",
              "  // Cache steps on the outputElement to make it available for the next call\n",
              "  // to uploadFilesContinue from Python.\n",
              "  outputElement.steps = steps;\n",
              "\n",
              "  return _uploadFilesContinue(outputId);\n",
              "}\n",
              "\n",
              "// This is roughly an async generator (not supported in the browser yet),\n",
              "// where there are multiple asynchronous steps and the Python side is going\n",
              "// to poll for completion of each step.\n",
              "// This uses a Promise to block the python side on completion of each step,\n",
              "// then passes the result of the previous step as the input to the next step.\n",
              "function _uploadFilesContinue(outputId) {\n",
              "  const outputElement = document.getElementById(outputId);\n",
              "  const steps = outputElement.steps;\n",
              "\n",
              "  const next = steps.next(outputElement.lastPromiseValue);\n",
              "  return Promise.resolve(next.value.promise).then((value) => {\n",
              "    // Cache the last promise value to make it available to the next\n",
              "    // step of the generator.\n",
              "    outputElement.lastPromiseValue = value;\n",
              "    return next.value.response;\n",
              "  });\n",
              "}\n",
              "\n",
              "/**\n",
              " * Generator function which is called between each async step of the upload\n",
              " * process.\n",
              " * @param {string} inputId Element ID of the input file picker element.\n",
              " * @param {string} outputId Element ID of the output display.\n",
              " * @return {!Iterable<!Object>} Iterable of next steps.\n",
              " */\n",
              "function* uploadFilesStep(inputId, outputId) {\n",
              "  const inputElement = document.getElementById(inputId);\n",
              "  inputElement.disabled = false;\n",
              "\n",
              "  const outputElement = document.getElementById(outputId);\n",
              "  outputElement.innerHTML = '';\n",
              "\n",
              "  const pickedPromise = new Promise((resolve) => {\n",
              "    inputElement.addEventListener('change', (e) => {\n",
              "      resolve(e.target.files);\n",
              "    });\n",
              "  });\n",
              "\n",
              "  const cancel = document.createElement('button');\n",
              "  inputElement.parentElement.appendChild(cancel);\n",
              "  cancel.textContent = 'Cancel upload';\n",
              "  const cancelPromise = new Promise((resolve) => {\n",
              "    cancel.onclick = () => {\n",
              "      resolve(null);\n",
              "    };\n",
              "  });\n",
              "\n",
              "  // Wait for the user to pick the files.\n",
              "  const files = yield {\n",
              "    promise: Promise.race([pickedPromise, cancelPromise]),\n",
              "    response: {\n",
              "      action: 'starting',\n",
              "    }\n",
              "  };\n",
              "\n",
              "  cancel.remove();\n",
              "\n",
              "  // Disable the input element since further picks are not allowed.\n",
              "  inputElement.disabled = true;\n",
              "\n",
              "  if (!files) {\n",
              "    return {\n",
              "      response: {\n",
              "        action: 'complete',\n",
              "      }\n",
              "    };\n",
              "  }\n",
              "\n",
              "  for (const file of files) {\n",
              "    const li = document.createElement('li');\n",
              "    li.append(span(file.name, {fontWeight: 'bold'}));\n",
              "    li.append(span(\n",
              "        `(${file.type || 'n/a'}) - ${file.size} bytes, ` +\n",
              "        `last modified: ${\n",
              "            file.lastModifiedDate ? file.lastModifiedDate.toLocaleDateString() :\n",
              "                                    'n/a'} - `));\n",
              "    const percent = span('0% done');\n",
              "    li.appendChild(percent);\n",
              "\n",
              "    outputElement.appendChild(li);\n",
              "\n",
              "    const fileDataPromise = new Promise((resolve) => {\n",
              "      const reader = new FileReader();\n",
              "      reader.onload = (e) => {\n",
              "        resolve(e.target.result);\n",
              "      };\n",
              "      reader.readAsArrayBuffer(file);\n",
              "    });\n",
              "    // Wait for the data to be ready.\n",
              "    let fileData = yield {\n",
              "      promise: fileDataPromise,\n",
              "      response: {\n",
              "        action: 'continue',\n",
              "      }\n",
              "    };\n",
              "\n",
              "    // Use a chunked sending to avoid message size limits. See b/62115660.\n",
              "    let position = 0;\n",
              "    do {\n",
              "      const length = Math.min(fileData.byteLength - position, MAX_PAYLOAD_SIZE);\n",
              "      const chunk = new Uint8Array(fileData, position, length);\n",
              "      position += length;\n",
              "\n",
              "      const base64 = btoa(String.fromCharCode.apply(null, chunk));\n",
              "      yield {\n",
              "        response: {\n",
              "          action: 'append',\n",
              "          file: file.name,\n",
              "          data: base64,\n",
              "        },\n",
              "      };\n",
              "\n",
              "      let percentDone = fileData.byteLength === 0 ?\n",
              "          100 :\n",
              "          Math.round((position / fileData.byteLength) * 100);\n",
              "      percent.textContent = `${percentDone}% done`;\n",
              "\n",
              "    } while (position < fileData.byteLength);\n",
              "  }\n",
              "\n",
              "  // All done.\n",
              "  yield {\n",
              "    response: {\n",
              "      action: 'complete',\n",
              "    }\n",
              "  };\n",
              "}\n",
              "\n",
              "scope.google = scope.google || {};\n",
              "scope.google.colab = scope.google.colab || {};\n",
              "scope.google.colab._files = {\n",
              "  _uploadFiles,\n",
              "  _uploadFilesContinue,\n",
              "};\n",
              "})(self);\n",
              "</script> "
            ]
          },
          "metadata": {}
        },
        {
          "output_type": "stream",
          "name": "stdout",
          "text": [
            "Saving train.csv to train.csv\n"
          ]
        }
      ]
    },
    {
      "cell_type": "markdown",
      "source": [
        "read the data using pandas"
      ],
      "metadata": {
        "id": "lTVCbBHr7Waf"
      }
    },
    {
      "cell_type": "code",
      "source": [
        "data = pd.read_csv(\"train.csv\")"
      ],
      "metadata": {
        "id": "m8A-BwOc62hk"
      },
      "execution_count": 6,
      "outputs": []
    },
    {
      "cell_type": "code",
      "source": [
        "print(data.head())  # debugging step"
      ],
      "metadata": {
        "id": "YNL8J92y7DV3",
        "colab": {
          "base_uri": "https://localhost:8080/"
        },
        "outputId": "83b33a15-f4e6-4e94-cffa-bffb5e9ec593"
      },
      "execution_count": 7,
      "outputs": [
        {
          "output_type": "stream",
          "name": "stdout",
          "text": [
            "   v.id  on road old  on road now  years      km  rating  condition  economy  \\\n",
            "0     1       535651       798186      3   78945       1          2       14   \n",
            "1     2       591911       861056      6  117220       5          9        9   \n",
            "2     3       686990       770762      2  132538       2          8       15   \n",
            "3     4       573999       722381      4  101065       4          3       11   \n",
            "4     5       691388       811335      6   61559       3          9       12   \n",
            "\n",
            "   top speed  hp  torque  current price  \n",
            "0        177  73     123       351318.0  \n",
            "1        148  74      95       285001.5  \n",
            "2        181  53      97       215386.0  \n",
            "3        197  54     116       244295.5  \n",
            "4        160  53     105       531114.5  \n"
          ]
        }
      ]
    },
    {
      "cell_type": "markdown",
      "source": [
        "convert the data into tensor data"
      ],
      "metadata": {
        "id": "8BSdIYth9kKN"
      }
    },
    {
      "cell_type": "code",
      "source": [
        "tensor_data = tf.constant(data)\n",
        "print(tensor_data.numpy())"
      ],
      "metadata": {
        "id": "8TwY_wmQ9XPO",
        "colab": {
          "base_uri": "https://localhost:8080/"
        },
        "outputId": "84ee9f5c-48a4-4985-b4cd-e47af5b284e5"
      },
      "execution_count": 8,
      "outputs": [
        {
          "output_type": "stream",
          "name": "stdout",
          "text": [
            "[[1.000000e+00 5.356510e+05 7.981860e+05 ... 7.300000e+01 1.230000e+02\n",
            "  3.513180e+05]\n",
            " [2.000000e+00 5.919110e+05 8.610560e+05 ... 7.400000e+01 9.500000e+01\n",
            "  2.850015e+05]\n",
            " [3.000000e+00 6.869900e+05 7.707620e+05 ... 5.300000e+01 9.700000e+01\n",
            "  2.153860e+05]\n",
            " ...\n",
            " [9.980000e+02 6.463440e+05 8.427330e+05 ... 1.130000e+02 8.900000e+01\n",
            "  4.058710e+05]\n",
            " [9.990000e+02 5.355590e+05 7.324390e+05 ... 1.120000e+02 1.280000e+02\n",
            "  7.439800e+04]\n",
            " [1.000000e+03 5.901050e+05 7.797430e+05 ... 9.900000e+01 9.600000e+01\n",
            "  4.149385e+05]]\n"
          ]
        }
      ]
    },
    {
      "cell_type": "markdown",
      "source": [
        "shuffle the dataset avoiding any bias"
      ],
      "metadata": {
        "id": "9VYjvh1X99a2"
      }
    },
    {
      "cell_type": "code",
      "source": [
        "tensor_data = tf.random.shuffle(tensor_data)\n",
        "print(tensor_data)"
      ],
      "metadata": {
        "id": "fzpHwSea-BBl",
        "colab": {
          "base_uri": "https://localhost:8080/"
        },
        "outputId": "c554538f-a12a-49a1-87d2-9711dc2f6163"
      },
      "execution_count": 9,
      "outputs": [
        {
          "output_type": "stream",
          "name": "stdout",
          "text": [
            "tf.Tensor(\n",
            "[[5.990000e+02 6.095450e+05 8.422010e+05 ... 9.900000e+01 1.350000e+02\n",
            "  3.372570e+05]\n",
            " [6.530000e+02 6.538050e+05 8.735460e+05 ... 5.800000e+01 1.190000e+02\n",
            "  3.802310e+05]\n",
            " [1.390000e+02 6.914390e+05 7.515610e+05 ... 7.300000e+01 9.700000e+01\n",
            "  1.863565e+05]\n",
            " ...\n",
            " [3.810000e+02 5.114800e+05 7.071870e+05 ... 7.500000e+01 1.280000e+02\n",
            "  1.781805e+05]\n",
            " [3.720000e+02 6.800350e+05 8.570760e+05 ... 9.900000e+01 9.700000e+01\n",
            "  4.000275e+05]\n",
            " [2.480000e+02 6.834100e+05 8.240400e+05 ... 8.300000e+01 8.200000e+01\n",
            "  4.836635e+05]], shape=(1000, 12), dtype=float64)\n"
          ]
        }
      ]
    },
    {
      "cell_type": "markdown",
      "source": [
        "preparing x and y"
      ],
      "metadata": {
        "id": "sBDJ7MWmP4zI"
      }
    },
    {
      "cell_type": "code",
      "source": [
        "x = tensor_data[:, 3:-1]  # gettint all rows with columns restrictions\n",
        "  # removing some columns that we're not interested in (start from row 3 (years))\n",
        "print(x.shape)  #(1000,8)"
      ],
      "metadata": {
        "colab": {
          "base_uri": "https://localhost:8080/"
        },
        "id": "NEkWSDITP_ML",
        "outputId": "6e255eed-80f5-4822-cfa3-b7554a0ae113"
      },
      "execution_count": 10,
      "outputs": [
        {
          "output_type": "stream",
          "name": "stdout",
          "text": [
            "(1000, 8)\n"
          ]
        }
      ]
    },
    {
      "cell_type": "code",
      "source": [
        "y = tensor_data[:, -1]\n",
        "print(y.shape)  # y here is a 1D data so we need to exapnd it to be (1000,1)\n",
        "\n",
        "y = tf.expand_dims(y, axis = -1)\n",
        "print(y.shape)  # (1000,1) instead of (1000,)"
      ],
      "metadata": {
        "colab": {
          "base_uri": "https://localhost:8080/"
        },
        "id": "sAUP1K8GQUVO",
        "outputId": "5732ca33-2340-4bb4-f8a3-a5497843c642"
      },
      "execution_count": 11,
      "outputs": [
        {
          "output_type": "stream",
          "name": "stdout",
          "text": [
            "(1000,)\n",
            "(1000, 1)\n"
          ]
        }
      ]
    },
    {
      "cell_type": "markdown",
      "source": [
        "preparing for splitting step"
      ],
      "metadata": {
        "id": "4zwXVv58mOdO"
      }
    },
    {
      "cell_type": "code",
      "source": [
        "Train_ratio = .8\n",
        "Val_ratio = .1\n",
        "Test_ratio = .1\n",
        "Dataset_size = len(x)"
      ],
      "metadata": {
        "id": "rufdHgGI6byo"
      },
      "execution_count": 45,
      "outputs": []
    },
    {
      "cell_type": "markdown",
      "source": [
        "preparing the training dataset"
      ],
      "metadata": {
        "id": "wJWr3QxA7YxE"
      }
    },
    {
      "cell_type": "code",
      "source": [
        "x_train = x[:int(Dataset_size * Train_ratio)]\n",
        "y_train = y[:int(Dataset_size * Train_ratio)]\n",
        "print(x_train.shape)\n",
        "print(y_train.shape)"
      ],
      "metadata": {
        "colab": {
          "base_uri": "https://localhost:8080/"
        },
        "id": "qsgJP8F37JyA",
        "outputId": "f1df22c0-4c56-4c57-9b35-403d713e4aaa"
      },
      "execution_count": 47,
      "outputs": [
        {
          "output_type": "stream",
          "name": "stdout",
          "text": [
            "(800, 8)\n",
            "(800, 1)\n"
          ]
        }
      ]
    },
    {
      "cell_type": "markdown",
      "source": [
        "preparing the validation dataset"
      ],
      "metadata": {
        "id": "zFp2dMgO7b_9"
      }
    },
    {
      "cell_type": "code",
      "source": [
        "x_val = x[int(Dataset_size * Train_ratio) : int(Dataset_size * (Train_ratio + Val_ratio) )]\n",
        "y_val = y[int(Dataset_size * Train_ratio) : int(Dataset_size * (Train_ratio + Val_ratio) )]\n",
        "print(x_val.shape)\n",
        "print(y_val.shape)"
      ],
      "metadata": {
        "colab": {
          "base_uri": "https://localhost:8080/"
        },
        "id": "zdyCGfxe7ekn",
        "outputId": "dcdddf2d-724d-46a6-80da-354f5d2d38e5"
      },
      "execution_count": 48,
      "outputs": [
        {
          "output_type": "stream",
          "name": "stdout",
          "text": [
            "(100, 8)\n",
            "(100, 1)\n"
          ]
        }
      ]
    },
    {
      "cell_type": "markdown",
      "source": [
        "preparing the testing dataset"
      ],
      "metadata": {
        "id": "YbafQWKW8LXI"
      }
    },
    {
      "cell_type": "code",
      "source": [
        "x_test = x[int(Dataset_size * (Train_ratio + Val_ratio) ) : ]  # till the last\n",
        "y_test = y[int(Dataset_size * (Train_ratio + Val_ratio) ) : ]\n",
        "print(x_val.shape)\n",
        "print(y_val.shape)"
      ],
      "metadata": {
        "colab": {
          "base_uri": "https://localhost:8080/"
        },
        "id": "8aTyO04W8K6x",
        "outputId": "76536b88-35a8-4673-8c2b-5764fc5e572a"
      },
      "execution_count": 49,
      "outputs": [
        {
          "output_type": "stream",
          "name": "stdout",
          "text": [
            "(100, 8)\n",
            "(100, 1)\n"
          ]
        }
      ]
    },
    {
      "cell_type": "markdown",
      "source": [
        "Dataset Normalization using keras"
      ],
      "metadata": {
        "id": "I5VMvgBh6t_J"
      }
    },
    {
      "cell_type": "markdown",
      "source": [
        "even in the normalizaion, just use the training dataset to adapt"
      ],
      "metadata": {
        "id": "wG5jI-d083hn"
      }
    },
    {
      "cell_type": "code",
      "source": [
        "normalizer = tf.keras.layers.Normalization(axis = -1)\n",
        "normalizer.adapt(x_train)  #getting the mean and var\n",
        "normalizer(x[:5])\n"
      ],
      "metadata": {
        "colab": {
          "base_uri": "https://localhost:8080/"
        },
        "id": "KwGY_5E8mTKT",
        "outputId": "662d004b-5b4e-4608-93f4-e7eed1086518"
      },
      "execution_count": 50,
      "outputs": [
        {
          "output_type": "execute_result",
          "data": {
            "text/plain": [
              "<tf.Tensor: shape=(5, 8), dtype=float32, numpy=\n",
              "array([[-0.8971837 , -0.12386712, -1.3967407 , -0.92133194,  0.15357782,\n",
              "         0.3578158 ,  0.71515834,  1.4930736 ],\n",
              "       [-1.4778851 , -0.09663925, -0.69486094,  0.49814913, -1.6465995 ,\n",
              "         1.7070842 , -1.2764521 ,  0.7306936 ],\n",
              "       [ 0.2642191 ,  1.1318043 , -1.3967407 , -0.21159142, -0.29646653,\n",
              "        -1.3028221 , -0.54781413, -0.31757897],\n",
              "       [-0.3164823 ,  0.5718497 ,  0.00701879, -1.6310725 ,  0.6036222 ,\n",
              "        -1.406612  ,  1.7352515 ,  0.9212886 ],\n",
              "       [-1.4778851 , -0.06704522, -0.69486094, -0.92133194, -0.29646653,\n",
              "         1.4995044 , -1.1793004 , -1.5564466 ]], dtype=float32)>"
            ]
          },
          "metadata": {},
          "execution_count": 50
        }
      ]
    },
    {
      "cell_type": "code",
      "source": [
        "print(x.shape)"
      ],
      "metadata": {
        "colab": {
          "base_uri": "https://localhost:8080/"
        },
        "id": "x66kISsUxQ7I",
        "outputId": "1fe806ae-fec3-44a8-bbc7-9977683f11c8"
      },
      "execution_count": 14,
      "outputs": [
        {
          "output_type": "stream",
          "name": "stdout",
          "text": [
            "(1000, 8)\n"
          ]
        }
      ]
    },
    {
      "cell_type": "markdown",
      "source": [
        "Linear Regression Model"
      ],
      "metadata": {
        "id": "teHJoJ8ct2YX"
      }
    },
    {
      "cell_type": "code",
      "source": [
        "model = tf.keras.Sequential([\n",
        "    InputLayer(shape = (8,)),   # model expects 8 different params as inputs\n",
        "    normalizer,\n",
        "    Dense(1)\n",
        "])\n"
      ],
      "metadata": {
        "id": "RGP0LAH4t5ql"
      },
      "execution_count": 15,
      "outputs": []
    },
    {
      "cell_type": "markdown",
      "source": [
        "run once to let the model know about the data"
      ],
      "metadata": {
        "id": "YYMMudLW77FP"
      }
    },
    {
      "cell_type": "code",
      "source": [
        "model.summary()"
      ],
      "metadata": {
        "colab": {
          "base_uri": "https://localhost:8080/",
          "height": 204
        },
        "id": "R2So9BI76BFr",
        "outputId": "9e40fc6a-9d96-4fdc-c1e6-08743c5d316a"
      },
      "execution_count": 16,
      "outputs": [
        {
          "output_type": "display_data",
          "data": {
            "text/plain": [
              "\u001b[1mModel: \"sequential\"\u001b[0m\n"
            ],
            "text/html": [
              "<pre style=\"white-space:pre;overflow-x:auto;line-height:normal;font-family:Menlo,'DejaVu Sans Mono',consolas,'Courier New',monospace\"><span style=\"font-weight: bold\">Model: \"sequential\"</span>\n",
              "</pre>\n"
            ]
          },
          "metadata": {}
        },
        {
          "output_type": "display_data",
          "data": {
            "text/plain": [
              "┏━━━━━━━━━━━━━━━━━━━━━━━━━━━━━━━━━┳━━━━━━━━━━━━━━━━━━━━━━━━┳━━━━━━━━━━━━━━━┓\n",
              "┃\u001b[1m \u001b[0m\u001b[1mLayer (type)                   \u001b[0m\u001b[1m \u001b[0m┃\u001b[1m \u001b[0m\u001b[1mOutput Shape          \u001b[0m\u001b[1m \u001b[0m┃\u001b[1m \u001b[0m\u001b[1m      Param #\u001b[0m\u001b[1m \u001b[0m┃\n",
              "┡━━━━━━━━━━━━━━━━━━━━━━━━━━━━━━━━━╇━━━━━━━━━━━━━━━━━━━━━━━━╇━━━━━━━━━━━━━━━┩\n",
              "│ normalization (\u001b[38;5;33mNormalization\u001b[0m)   │ (\u001b[38;5;45mNone\u001b[0m, \u001b[38;5;34m8\u001b[0m)              │            \u001b[38;5;34m17\u001b[0m │\n",
              "├─────────────────────────────────┼────────────────────────┼───────────────┤\n",
              "│ dense (\u001b[38;5;33mDense\u001b[0m)                   │ (\u001b[38;5;45mNone\u001b[0m, \u001b[38;5;34m1\u001b[0m)              │             \u001b[38;5;34m9\u001b[0m │\n",
              "└─────────────────────────────────┴────────────────────────┴───────────────┘\n"
            ],
            "text/html": [
              "<pre style=\"white-space:pre;overflow-x:auto;line-height:normal;font-family:Menlo,'DejaVu Sans Mono',consolas,'Courier New',monospace\">┏━━━━━━━━━━━━━━━━━━━━━━━━━━━━━━━━━┳━━━━━━━━━━━━━━━━━━━━━━━━┳━━━━━━━━━━━━━━━┓\n",
              "┃<span style=\"font-weight: bold\"> Layer (type)                    </span>┃<span style=\"font-weight: bold\"> Output Shape           </span>┃<span style=\"font-weight: bold\">       Param # </span>┃\n",
              "┡━━━━━━━━━━━━━━━━━━━━━━━━━━━━━━━━━╇━━━━━━━━━━━━━━━━━━━━━━━━╇━━━━━━━━━━━━━━━┩\n",
              "│ normalization (<span style=\"color: #0087ff; text-decoration-color: #0087ff\">Normalization</span>)   │ (<span style=\"color: #00d7ff; text-decoration-color: #00d7ff\">None</span>, <span style=\"color: #00af00; text-decoration-color: #00af00\">8</span>)              │            <span style=\"color: #00af00; text-decoration-color: #00af00\">17</span> │\n",
              "├─────────────────────────────────┼────────────────────────┼───────────────┤\n",
              "│ dense (<span style=\"color: #0087ff; text-decoration-color: #0087ff\">Dense</span>)                   │ (<span style=\"color: #00d7ff; text-decoration-color: #00d7ff\">None</span>, <span style=\"color: #00af00; text-decoration-color: #00af00\">1</span>)              │             <span style=\"color: #00af00; text-decoration-color: #00af00\">9</span> │\n",
              "└─────────────────────────────────┴────────────────────────┴───────────────┘\n",
              "</pre>\n"
            ]
          },
          "metadata": {}
        },
        {
          "output_type": "display_data",
          "data": {
            "text/plain": [
              "\u001b[1m Total params: \u001b[0m\u001b[38;5;34m26\u001b[0m (108.00 B)\n"
            ],
            "text/html": [
              "<pre style=\"white-space:pre;overflow-x:auto;line-height:normal;font-family:Menlo,'DejaVu Sans Mono',consolas,'Courier New',monospace\"><span style=\"font-weight: bold\"> Total params: </span><span style=\"color: #00af00; text-decoration-color: #00af00\">26</span> (108.00 B)\n",
              "</pre>\n"
            ]
          },
          "metadata": {}
        },
        {
          "output_type": "display_data",
          "data": {
            "text/plain": [
              "\u001b[1m Trainable params: \u001b[0m\u001b[38;5;34m9\u001b[0m (36.00 B)\n"
            ],
            "text/html": [
              "<pre style=\"white-space:pre;overflow-x:auto;line-height:normal;font-family:Menlo,'DejaVu Sans Mono',consolas,'Courier New',monospace\"><span style=\"font-weight: bold\"> Trainable params: </span><span style=\"color: #00af00; text-decoration-color: #00af00\">9</span> (36.00 B)\n",
              "</pre>\n"
            ]
          },
          "metadata": {}
        },
        {
          "output_type": "display_data",
          "data": {
            "text/plain": [
              "\u001b[1m Non-trainable params: \u001b[0m\u001b[38;5;34m17\u001b[0m (72.00 B)\n"
            ],
            "text/html": [
              "<pre style=\"white-space:pre;overflow-x:auto;line-height:normal;font-family:Menlo,'DejaVu Sans Mono',consolas,'Courier New',monospace\"><span style=\"font-weight: bold\"> Non-trainable params: </span><span style=\"color: #00af00; text-decoration-color: #00af00\">17</span> (72.00 B)\n",
              "</pre>\n"
            ]
          },
          "metadata": {}
        }
      ]
    },
    {
      "cell_type": "markdown",
      "source": [
        "Plotting the model flow using keras"
      ],
      "metadata": {
        "id": "1AlODukD9ani"
      }
    },
    {
      "cell_type": "code",
      "source": [
        "tf.keras.utils.plot_model(model, to_file= \"model.png\", show_shapes = True)"
      ],
      "metadata": {
        "colab": {
          "base_uri": "https://localhost:8080/",
          "height": 606
        },
        "id": "oFRQ5EoW9f70",
        "outputId": "bedb001e-5917-42fc-c330-a43f77ec66d6"
      },
      "execution_count": 52,
      "outputs": [
        {
          "output_type": "execute_result",
          "data": {
            "image/png": "[encoded data removed]",
            "text/plain": [
              "<IPython.core.display.Image object>"
            ]
          },
          "metadata": {},
          "execution_count": 52
        }
      ]
    },
    {
      "cell_type": "markdown",
      "source": [
        "Error Calculation using MSE,MAE,HUB"
      ],
      "metadata": {
        "id": "MEoDohtnF2q5"
      }
    },
    {
      "cell_type": "markdown",
      "source": [
        "if you have an outlier in your dataset and you don't want it ro way too much, then it's not a good idea to use MSE in order not to amplify the error and hence distracting the model"
      ],
      "metadata": {
        "id": "FZuNdsH-gaqx"
      }
    },
    {
      "cell_type": "markdown",
      "source": [
        "Handeling outliers in the dataset uisng Huber loss is a robust loss function that is less sensitive to outliers than Mean Squared Error (MSE), but behaves like MSE for small errors and like Mean Absolute Error (MAE) for large errors."
      ],
      "metadata": {
        "id": "iRUqz5Zkh-DI"
      }
    },
    {
      "cell_type": "markdown",
      "source": [
        "in Adam Optimizer the learning rate is used as 0.001 , it could be bigger which could lead to model divergence, and could be smaller and will do better but the training will take too much time to converge"
      ],
      "metadata": {
        "id": "YbxFpDlgweLt"
      }
    },
    {
      "cell_type": "code",
      "source": [
        "model.compile(optimizer = Adam(learning_rate = 1.0),     # most commonly optimizer used\n",
        "              loss = MeanAbsoluteError(),     # how the loss will be calc during training\n",
        "              metrics = [RootMeanSquaredError()]) # RMSE to measure the model performance to compare between model and each other"
      ],
      "metadata": {
        "id": "SIWIGkseF2VD"
      },
      "execution_count": 59,
      "outputs": []
    },
    {
      "cell_type": "markdown",
      "source": [
        "the training step > model.fit , we can store it in a variable to control it after training or show some stats"
      ],
      "metadata": {
        "id": "ONu14iNTw_hq"
      }
    },
    {
      "cell_type": "code",
      "source": [
        "history = model.fit(x_train,y_train , validation_data=(x_val , y_val) ,epochs = 100, verbose = 1)"
      ],
      "metadata": {
        "colab": {
          "base_uri": "https://localhost:8080/"
        },
        "id": "XaR_gVIVu50Y",
        "outputId": "1dbd8f86-6445-40ce-ef25-a49ddb0c8fec"
      },
      "execution_count": 60,
      "outputs": [
        {
          "output_type": "stream",
          "name": "stdout",
          "text": [
            "Epoch 1/100\n",
            "\u001b[1m25/25\u001b[0m \u001b[32m━━━━━━━━━━━━━━━━━━━━\u001b[0m\u001b[37m\u001b[0m \u001b[1m1s\u001b[0m 10ms/step - loss: 301584.4062 - root_mean_squared_error: 326707.5000 - val_loss: 317932.0938 - val_root_mean_squared_error: 342689.0625\n",
            "Epoch 2/100\n",
            "\u001b[1m25/25\u001b[0m \u001b[32m━━━━━━━━━━━━━━━━━━━━\u001b[0m\u001b[37m\u001b[0m \u001b[1m0s\u001b[0m 6ms/step - loss: 302817.0938 - root_mean_squared_error: 327262.4688 - val_loss: 317908.4062 - val_root_mean_squared_error: 342668.6875\n",
            "Epoch 3/100\n",
            "\u001b[1m25/25\u001b[0m \u001b[32m━━━━━━━━━━━━━━━━━━━━\u001b[0m\u001b[37m\u001b[0m \u001b[1m0s\u001b[0m 5ms/step - loss: 309934.6250 - root_mean_squared_error: 333994.7500 - val_loss: 317884.2500 - val_root_mean_squared_error: 342646.4375\n",
            "Epoch 4/100\n",
            "\u001b[1m25/25\u001b[0m \u001b[32m━━━━━━━━━━━━━━━━━━━━\u001b[0m\u001b[37m\u001b[0m \u001b[1m0s\u001b[0m 5ms/step - loss: 302898.5312 - root_mean_squared_error: 329151.3438 - val_loss: 317860.6250 - val_root_mean_squared_error: 342626.0312\n",
            "Epoch 5/100\n",
            "\u001b[1m25/25\u001b[0m \u001b[32m━━━━━━━━━━━━━━━━━━━━\u001b[0m\u001b[37m\u001b[0m \u001b[1m0s\u001b[0m 6ms/step - loss: 305881.1875 - root_mean_squared_error: 331179.7500 - val_loss: 317836.3750 - val_root_mean_squared_error: 342604.1875\n",
            "Epoch 6/100\n",
            "\u001b[1m25/25\u001b[0m \u001b[32m━━━━━━━━━━━━━━━━━━━━\u001b[0m\u001b[37m\u001b[0m \u001b[1m0s\u001b[0m 4ms/step - loss: 306765.0938 - root_mean_squared_error: 331669.4375 - val_loss: 317811.9375 - val_root_mean_squared_error: 342582.4688\n",
            "Epoch 7/100\n",
            "\u001b[1m25/25\u001b[0m \u001b[32m━━━━━━━━━━━━━━━━━━━━\u001b[0m\u001b[37m\u001b[0m \u001b[1m0s\u001b[0m 6ms/step - loss: 306106.0312 - root_mean_squared_error: 331233.1562 - val_loss: 317789.3750 - val_root_mean_squared_error: 342562.1250\n",
            "Epoch 8/100\n",
            "\u001b[1m25/25\u001b[0m \u001b[32m━━━━━━━━━━━━━━━━━━━━\u001b[0m\u001b[37m\u001b[0m \u001b[1m0s\u001b[0m 4ms/step - loss: 306844.3750 - root_mean_squared_error: 331985.0938 - val_loss: 317765.1875 - val_root_mean_squared_error: 342540.6875\n",
            "Epoch 9/100\n",
            "\u001b[1m25/25\u001b[0m \u001b[32m━━━━━━━━━━━━━━━━━━━━\u001b[0m\u001b[37m\u001b[0m \u001b[1m0s\u001b[0m 6ms/step - loss: 303222.3438 - root_mean_squared_error: 328809.5625 - val_loss: 317740.5312 - val_root_mean_squared_error: 342519.0312\n",
            "Epoch 10/100\n",
            "\u001b[1m25/25\u001b[0m \u001b[32m━━━━━━━━━━━━━━━━━━━━\u001b[0m\u001b[37m\u001b[0m \u001b[1m0s\u001b[0m 6ms/step - loss: 303641.2812 - root_mean_squared_error: 328512.7812 - val_loss: 317717.7500 - val_root_mean_squared_error: 342499.0312\n",
            "Epoch 11/100\n",
            "\u001b[1m25/25\u001b[0m \u001b[32m━━━━━━━━━━━━━━━━━━━━\u001b[0m\u001b[37m\u001b[0m \u001b[1m0s\u001b[0m 6ms/step - loss: 306762.2500 - root_mean_squared_error: 332007.6875 - val_loss: 317693.2188 - val_root_mean_squared_error: 342476.4062\n",
            "Epoch 12/100\n",
            "\u001b[1m25/25\u001b[0m \u001b[32m━━━━━━━━━━━━━━━━━━━━\u001b[0m\u001b[37m\u001b[0m \u001b[1m0s\u001b[0m 4ms/step - loss: 309902.3438 - root_mean_squared_error: 333626.4375 - val_loss: 317669.5938 - val_root_mean_squared_error: 342454.9688\n",
            "Epoch 13/100\n",
            "\u001b[1m25/25\u001b[0m \u001b[32m━━━━━━━━━━━━━━━━━━━━\u001b[0m\u001b[37m\u001b[0m \u001b[1m0s\u001b[0m 6ms/step - loss: 308190.2500 - root_mean_squared_error: 332095.3125 - val_loss: 317645.0625 - val_root_mean_squared_error: 342433.3750\n",
            "Epoch 14/100\n",
            "\u001b[1m25/25\u001b[0m \u001b[32m━━━━━━━━━━━━━━━━━━━━\u001b[0m\u001b[37m\u001b[0m \u001b[1m0s\u001b[0m 5ms/step - loss: 301868.9375 - root_mean_squared_error: 325858.2188 - val_loss: 317621.7188 - val_root_mean_squared_error: 342413.5938\n",
            "Epoch 15/100\n",
            "\u001b[1m25/25\u001b[0m \u001b[32m━━━━━━━━━━━━━━━━━━━━\u001b[0m\u001b[37m\u001b[0m \u001b[1m0s\u001b[0m 4ms/step - loss: 307157.8438 - root_mean_squared_error: 331120.2500 - val_loss: 317597.3125 - val_root_mean_squared_error: 342391.0625\n",
            "Epoch 16/100\n",
            "\u001b[1m25/25\u001b[0m \u001b[32m━━━━━━━━━━━━━━━━━━━━\u001b[0m\u001b[37m\u001b[0m \u001b[1m0s\u001b[0m 4ms/step - loss: 310950.5938 - root_mean_squared_error: 334762.4375 - val_loss: 317573.6250 - val_root_mean_squared_error: 342369.9375\n",
            "Epoch 17/100\n",
            "\u001b[1m25/25\u001b[0m \u001b[32m━━━━━━━━━━━━━━━━━━━━\u001b[0m\u001b[37m\u001b[0m \u001b[1m0s\u001b[0m 4ms/step - loss: 304295.2812 - root_mean_squared_error: 328889.8750 - val_loss: 317549.4062 - val_root_mean_squared_error: 342348.4688\n",
            "Epoch 18/100\n",
            "\u001b[1m25/25\u001b[0m \u001b[32m━━━━━━━━━━━━━━━━━━━━\u001b[0m\u001b[37m\u001b[0m \u001b[1m0s\u001b[0m 6ms/step - loss: 306823.9688 - root_mean_squared_error: 330733.6562 - val_loss: 317524.6875 - val_root_mean_squared_error: 342326.1562\n",
            "Epoch 19/100\n",
            "\u001b[1m25/25\u001b[0m \u001b[32m━━━━━━━━━━━━━━━━━━━━\u001b[0m\u001b[37m\u001b[0m \u001b[1m0s\u001b[0m 4ms/step - loss: 305698.0312 - root_mean_squared_error: 330578.0000 - val_loss: 317501.6250 - val_root_mean_squared_error: 342306.0312\n",
            "Epoch 20/100\n",
            "\u001b[1m25/25\u001b[0m \u001b[32m━━━━━━━━━━━━━━━━━━━━\u001b[0m\u001b[37m\u001b[0m \u001b[1m0s\u001b[0m 5ms/step - loss: 299420.5000 - root_mean_squared_error: 322209.1875 - val_loss: 317478.1562 - val_root_mean_squared_error: 342285.6250\n",
            "Epoch 21/100\n",
            "\u001b[1m25/25\u001b[0m \u001b[32m━━━━━━━━━━━━━━━━━━━━\u001b[0m\u001b[37m\u001b[0m \u001b[1m0s\u001b[0m 4ms/step - loss: 304544.5000 - root_mean_squared_error: 329757.9062 - val_loss: 317453.9062 - val_root_mean_squared_error: 342263.4688\n",
            "Epoch 22/100\n",
            "\u001b[1m25/25\u001b[0m \u001b[32m━━━━━━━━━━━━━━━━━━━━\u001b[0m\u001b[37m\u001b[0m \u001b[1m0s\u001b[0m 4ms/step - loss: 302617.8125 - root_mean_squared_error: 326499.3750 - val_loss: 317429.9062 - val_root_mean_squared_error: 342241.9375\n",
            "Epoch 23/100\n",
            "\u001b[1m25/25\u001b[0m \u001b[32m━━━━━━━━━━━━━━━━━━━━\u001b[0m\u001b[37m\u001b[0m \u001b[1m0s\u001b[0m 6ms/step - loss: 309908.5625 - root_mean_squared_error: 335271.3750 - val_loss: 317405.7812 - val_root_mean_squared_error: 342220.3125\n",
            "Epoch 24/100\n",
            "\u001b[1m25/25\u001b[0m \u001b[32m━━━━━━━━━━━━━━━━━━━━\u001b[0m\u001b[37m\u001b[0m \u001b[1m0s\u001b[0m 4ms/step - loss: 303647.5000 - root_mean_squared_error: 329040.6250 - val_loss: 317381.4062 - val_root_mean_squared_error: 342199.4375\n",
            "Epoch 25/100\n",
            "\u001b[1m25/25\u001b[0m \u001b[32m━━━━━━━━━━━━━━━━━━━━\u001b[0m\u001b[37m\u001b[0m \u001b[1m0s\u001b[0m 4ms/step - loss: 308185.1250 - root_mean_squared_error: 334709.9688 - val_loss: 317357.9375 - val_root_mean_squared_error: 342177.7500\n",
            "Epoch 26/100\n",
            "\u001b[1m25/25\u001b[0m \u001b[32m━━━━━━━━━━━━━━━━━━━━\u001b[0m\u001b[37m\u001b[0m \u001b[1m0s\u001b[0m 5ms/step - loss: 307039.0000 - root_mean_squared_error: 331717.5000 - val_loss: 317333.7500 - val_root_mean_squared_error: 342156.1562\n",
            "Epoch 27/100\n",
            "\u001b[1m25/25\u001b[0m \u001b[32m━━━━━━━━━━━━━━━━━━━━\u001b[0m\u001b[37m\u001b[0m \u001b[1m0s\u001b[0m 4ms/step - loss: 295272.2500 - root_mean_squared_error: 320918.0625 - val_loss: 317309.8750 - val_root_mean_squared_error: 342136.4375\n",
            "Epoch 28/100\n",
            "\u001b[1m25/25\u001b[0m \u001b[32m━━━━━━━━━━━━━━━━━━━━\u001b[0m\u001b[37m\u001b[0m \u001b[1m0s\u001b[0m 4ms/step - loss: 303712.4375 - root_mean_squared_error: 329018.0000 - val_loss: 317286.0938 - val_root_mean_squared_error: 342113.9375\n",
            "Epoch 29/100\n",
            "\u001b[1m25/25\u001b[0m \u001b[32m━━━━━━━━━━━━━━━━━━━━\u001b[0m\u001b[37m\u001b[0m \u001b[1m0s\u001b[0m 4ms/step - loss: 304438.7812 - root_mean_squared_error: 329401.9688 - val_loss: 317261.7188 - val_root_mean_squared_error: 342092.2500\n",
            "Epoch 30/100\n",
            "\u001b[1m25/25\u001b[0m \u001b[32m━━━━━━━━━━━━━━━━━━━━\u001b[0m\u001b[37m\u001b[0m \u001b[1m0s\u001b[0m 4ms/step - loss: 306136.6562 - root_mean_squared_error: 332001.2188 - val_loss: 317238.1875 - val_root_mean_squared_error: 342070.7812\n",
            "Epoch 31/100\n",
            "\u001b[1m25/25\u001b[0m \u001b[32m━━━━━━━━━━━━━━━━━━━━\u001b[0m\u001b[37m\u001b[0m \u001b[1m0s\u001b[0m 4ms/step - loss: 312031.2188 - root_mean_squared_error: 336280.8438 - val_loss: 317213.8125 - val_root_mean_squared_error: 342048.3125\n",
            "Epoch 32/100\n",
            "\u001b[1m25/25\u001b[0m \u001b[32m━━━━━━━━━━━━━━━━━━━━\u001b[0m\u001b[37m\u001b[0m \u001b[1m0s\u001b[0m 4ms/step - loss: 300330.7500 - root_mean_squared_error: 325372.6250 - val_loss: 317189.9375 - val_root_mean_squared_error: 342028.2812\n",
            "Epoch 33/100\n",
            "\u001b[1m25/25\u001b[0m \u001b[32m━━━━━━━━━━━━━━━━━━━━\u001b[0m\u001b[37m\u001b[0m \u001b[1m0s\u001b[0m 4ms/step - loss: 307445.5625 - root_mean_squared_error: 331652.2812 - val_loss: 317166.1875 - val_root_mean_squared_error: 342006.6875\n",
            "Epoch 34/100\n",
            "\u001b[1m25/25\u001b[0m \u001b[32m━━━━━━━━━━━━━━━━━━━━\u001b[0m\u001b[37m\u001b[0m \u001b[1m0s\u001b[0m 6ms/step - loss: 302625.5312 - root_mean_squared_error: 329031.2188 - val_loss: 317142.0938 - val_root_mean_squared_error: 341985.6250\n",
            "Epoch 35/100\n",
            "\u001b[1m25/25\u001b[0m \u001b[32m━━━━━━━━━━━━━━━━━━━━\u001b[0m\u001b[37m\u001b[0m \u001b[1m0s\u001b[0m 4ms/step - loss: 306524.5938 - root_mean_squared_error: 331514.0312 - val_loss: 317118.0625 - val_root_mean_squared_error: 341963.6875\n",
            "Epoch 36/100\n",
            "\u001b[1m25/25\u001b[0m \u001b[32m━━━━━━━━━━━━━━━━━━━━\u001b[0m\u001b[37m\u001b[0m \u001b[1m0s\u001b[0m 4ms/step - loss: 305383.6562 - root_mean_squared_error: 330055.1562 - val_loss: 317094.0938 - val_root_mean_squared_error: 341942.7812\n",
            "Epoch 37/100\n",
            "\u001b[1m25/25\u001b[0m \u001b[32m━━━━━━━━━━━━━━━━━━━━\u001b[0m\u001b[37m\u001b[0m \u001b[1m0s\u001b[0m 4ms/step - loss: 305663.5000 - root_mean_squared_error: 330419.1250 - val_loss: 317070.0312 - val_root_mean_squared_error: 341921.4688\n",
            "Epoch 38/100\n",
            "\u001b[1m25/25\u001b[0m \u001b[32m━━━━━━━━━━━━━━━━━━━━\u001b[0m\u001b[37m\u001b[0m \u001b[1m0s\u001b[0m 4ms/step - loss: 311857.8125 - root_mean_squared_error: 336532.6562 - val_loss: 317046.0625 - val_root_mean_squared_error: 341899.3438\n",
            "Epoch 39/100\n",
            "\u001b[1m25/25\u001b[0m \u001b[32m━━━━━━━━━━━━━━━━━━━━\u001b[0m\u001b[37m\u001b[0m \u001b[1m0s\u001b[0m 4ms/step - loss: 299186.5625 - root_mean_squared_error: 324373.0312 - val_loss: 317022.0000 - val_root_mean_squared_error: 341878.9375\n",
            "Epoch 40/100\n",
            "\u001b[1m25/25\u001b[0m \u001b[32m━━━━━━━━━━━━━━━━━━━━\u001b[0m\u001b[37m\u001b[0m \u001b[1m0s\u001b[0m 4ms/step - loss: 304391.1562 - root_mean_squared_error: 328365.3750 - val_loss: 316998.5625 - val_root_mean_squared_error: 341857.1875\n",
            "Epoch 41/100\n",
            "\u001b[1m25/25\u001b[0m \u001b[32m━━━━━━━━━━━━━━━━━━━━\u001b[0m\u001b[37m\u001b[0m \u001b[1m0s\u001b[0m 4ms/step - loss: 305863.7812 - root_mean_squared_error: 330932.9375 - val_loss: 316974.5312 - val_root_mean_squared_error: 341835.5938\n",
            "Epoch 42/100\n",
            "\u001b[1m25/25\u001b[0m \u001b[32m━━━━━━━━━━━━━━━━━━━━\u001b[0m\u001b[37m\u001b[0m \u001b[1m0s\u001b[0m 4ms/step - loss: 304702.8125 - root_mean_squared_error: 330774.4688 - val_loss: 316950.1875 - val_root_mean_squared_error: 341814.1562\n",
            "Epoch 43/100\n",
            "\u001b[1m25/25\u001b[0m \u001b[32m━━━━━━━━━━━━━━━━━━━━\u001b[0m\u001b[37m\u001b[0m \u001b[1m0s\u001b[0m 5ms/step - loss: 305459.8125 - root_mean_squared_error: 331342.0000 - val_loss: 316926.2500 - val_root_mean_squared_error: 341793.1250\n",
            "Epoch 44/100\n",
            "\u001b[1m25/25\u001b[0m \u001b[32m━━━━━━━━━━━━━━━━━━━━\u001b[0m\u001b[37m\u001b[0m \u001b[1m0s\u001b[0m 4ms/step - loss: 303085.5625 - root_mean_squared_error: 327430.5312 - val_loss: 316902.5312 - val_root_mean_squared_error: 341771.8438\n",
            "Epoch 45/100\n",
            "\u001b[1m25/25\u001b[0m \u001b[32m━━━━━━━━━━━━━━━━━━━━\u001b[0m\u001b[37m\u001b[0m \u001b[1m0s\u001b[0m 6ms/step - loss: 308697.4062 - root_mean_squared_error: 332166.5938 - val_loss: 316878.8438 - val_root_mean_squared_error: 341750.6250\n",
            "Epoch 46/100\n",
            "\u001b[1m25/25\u001b[0m \u001b[32m━━━━━━━━━━━━━━━━━━━━\u001b[0m\u001b[37m\u001b[0m \u001b[1m0s\u001b[0m 4ms/step - loss: 296507.4375 - root_mean_squared_error: 321359.5625 - val_loss: 316855.1875 - val_root_mean_squared_error: 341730.6875\n",
            "Epoch 47/100\n",
            "\u001b[1m25/25\u001b[0m \u001b[32m━━━━━━━━━━━━━━━━━━━━\u001b[0m\u001b[37m\u001b[0m \u001b[1m0s\u001b[0m 4ms/step - loss: 309161.5625 - root_mean_squared_error: 333405.4062 - val_loss: 316830.1875 - val_root_mean_squared_error: 341707.4688\n",
            "Epoch 48/100\n",
            "\u001b[1m25/25\u001b[0m \u001b[32m━━━━━━━━━━━━━━━━━━━━\u001b[0m\u001b[37m\u001b[0m \u001b[1m0s\u001b[0m 4ms/step - loss: 307902.1875 - root_mean_squared_error: 332661.5000 - val_loss: 316806.1250 - val_root_mean_squared_error: 341685.3438\n",
            "Epoch 49/100\n",
            "\u001b[1m25/25\u001b[0m \u001b[32m━━━━━━━━━━━━━━━━━━━━\u001b[0m\u001b[37m\u001b[0m \u001b[1m0s\u001b[0m 6ms/step - loss: 309760.9688 - root_mean_squared_error: 335063.0938 - val_loss: 316782.8750 - val_root_mean_squared_error: 341665.1562\n",
            "Epoch 50/100\n",
            "\u001b[1m25/25\u001b[0m \u001b[32m━━━━━━━━━━━━━━━━━━━━\u001b[0m\u001b[37m\u001b[0m \u001b[1m0s\u001b[0m 6ms/step - loss: 306427.9375 - root_mean_squared_error: 330370.2812 - val_loss: 316759.1250 - val_root_mean_squared_error: 341644.1875\n",
            "Epoch 51/100\n",
            "\u001b[1m25/25\u001b[0m \u001b[32m━━━━━━━━━━━━━━━━━━━━\u001b[0m\u001b[37m\u001b[0m \u001b[1m0s\u001b[0m 6ms/step - loss: 302133.7500 - root_mean_squared_error: 328381.0312 - val_loss: 316734.2500 - val_root_mean_squared_error: 341621.9688\n",
            "Epoch 52/100\n",
            "\u001b[1m25/25\u001b[0m \u001b[32m━━━━━━━━━━━━━━━━━━━━\u001b[0m\u001b[37m\u001b[0m \u001b[1m0s\u001b[0m 7ms/step - loss: 308825.4375 - root_mean_squared_error: 333470.6875 - val_loss: 316710.9688 - val_root_mean_squared_error: 341600.5312\n",
            "Epoch 53/100\n",
            "\u001b[1m25/25\u001b[0m \u001b[32m━━━━━━━━━━━━━━━━━━━━\u001b[0m\u001b[37m\u001b[0m \u001b[1m0s\u001b[0m 5ms/step - loss: 303460.6562 - root_mean_squared_error: 327782.8125 - val_loss: 316687.0625 - val_root_mean_squared_error: 341579.7188\n",
            "Epoch 54/100\n",
            "\u001b[1m25/25\u001b[0m \u001b[32m━━━━━━━━━━━━━━━━━━━━\u001b[0m\u001b[37m\u001b[0m \u001b[1m0s\u001b[0m 8ms/step - loss: 305722.1875 - root_mean_squared_error: 330441.9688 - val_loss: 316662.7188 - val_root_mean_squared_error: 341557.9062\n",
            "Epoch 55/100\n",
            "\u001b[1m25/25\u001b[0m \u001b[32m━━━━━━━━━━━━━━━━━━━━\u001b[0m\u001b[37m\u001b[0m \u001b[1m0s\u001b[0m 7ms/step - loss: 299169.4375 - root_mean_squared_error: 324699.8750 - val_loss: 316639.3750 - val_root_mean_squared_error: 341537.5938\n",
            "Epoch 56/100\n",
            "\u001b[1m25/25\u001b[0m \u001b[32m━━━━━━━━━━━━━━━━━━━━\u001b[0m\u001b[37m\u001b[0m \u001b[1m0s\u001b[0m 7ms/step - loss: 301981.0938 - root_mean_squared_error: 325962.9062 - val_loss: 316615.2188 - val_root_mean_squared_error: 341515.7500\n",
            "Epoch 57/100\n",
            "\u001b[1m25/25\u001b[0m \u001b[32m━━━━━━━━━━━━━━━━━━━━\u001b[0m\u001b[37m\u001b[0m \u001b[1m0s\u001b[0m 4ms/step - loss: 299653.3750 - root_mean_squared_error: 324403.1250 - val_loss: 316591.2812 - val_root_mean_squared_error: 341494.7188\n",
            "Epoch 58/100\n",
            "\u001b[1m25/25\u001b[0m \u001b[32m━━━━━━━━━━━━━━━━━━━━\u001b[0m\u001b[37m\u001b[0m \u001b[1m0s\u001b[0m 4ms/step - loss: 302398.6562 - root_mean_squared_error: 326345.2500 - val_loss: 316567.4062 - val_root_mean_squared_error: 341473.2500\n",
            "Epoch 59/100\n",
            "\u001b[1m25/25\u001b[0m \u001b[32m━━━━━━━━━━━━━━━━━━━━\u001b[0m\u001b[37m\u001b[0m \u001b[1m0s\u001b[0m 5ms/step - loss: 308615.3750 - root_mean_squared_error: 333162.2500 - val_loss: 316543.4062 - val_root_mean_squared_error: 341452.0312\n",
            "Epoch 60/100\n",
            "\u001b[1m25/25\u001b[0m \u001b[32m━━━━━━━━━━━━━━━━━━━━\u001b[0m\u001b[37m\u001b[0m \u001b[1m0s\u001b[0m 4ms/step - loss: 304059.0625 - root_mean_squared_error: 329316.1250 - val_loss: 316519.0938 - val_root_mean_squared_error: 341430.3438\n",
            "Epoch 61/100\n",
            "\u001b[1m25/25\u001b[0m \u001b[32m━━━━━━━━━━━━━━━━━━━━\u001b[0m\u001b[37m\u001b[0m \u001b[1m0s\u001b[0m 4ms/step - loss: 308412.7812 - root_mean_squared_error: 333226.1250 - val_loss: 316494.8438 - val_root_mean_squared_error: 341408.5000\n",
            "Epoch 62/100\n",
            "\u001b[1m25/25\u001b[0m \u001b[32m━━━━━━━━━━━━━━━━━━━━\u001b[0m\u001b[37m\u001b[0m \u001b[1m0s\u001b[0m 4ms/step - loss: 309754.2188 - root_mean_squared_error: 335008.5000 - val_loss: 316471.2500 - val_root_mean_squared_error: 341386.6250\n",
            "Epoch 63/100\n",
            "\u001b[1m25/25\u001b[0m \u001b[32m━━━━━━━━━━━━━━━━━━━━\u001b[0m\u001b[37m\u001b[0m \u001b[1m0s\u001b[0m 4ms/step - loss: 311068.4062 - root_mean_squared_error: 335404.1875 - val_loss: 316447.2188 - val_root_mean_squared_error: 341365.3125\n",
            "Epoch 64/100\n",
            "\u001b[1m25/25\u001b[0m \u001b[32m━━━━━━━━━━━━━━━━━━━━\u001b[0m\u001b[37m\u001b[0m \u001b[1m0s\u001b[0m 4ms/step - loss: 308672.3125 - root_mean_squared_error: 334084.7812 - val_loss: 316423.1562 - val_root_mean_squared_error: 341344.3438\n",
            "Epoch 65/100\n",
            "\u001b[1m25/25\u001b[0m \u001b[32m━━━━━━━━━━━━━━━━━━━━\u001b[0m\u001b[37m\u001b[0m \u001b[1m0s\u001b[0m 4ms/step - loss: 304285.3125 - root_mean_squared_error: 329716.4688 - val_loss: 316399.5938 - val_root_mean_squared_error: 341323.3438\n",
            "Epoch 66/100\n",
            "\u001b[1m25/25\u001b[0m \u001b[32m━━━━━━━━━━━━━━━━━━━━\u001b[0m\u001b[37m\u001b[0m \u001b[1m0s\u001b[0m 4ms/step - loss: 307906.2812 - root_mean_squared_error: 331913.7500 - val_loss: 316375.5000 - val_root_mean_squared_error: 341302.3750\n",
            "Epoch 67/100\n",
            "\u001b[1m25/25\u001b[0m \u001b[32m━━━━━━━━━━━━━━━━━━━━\u001b[0m\u001b[37m\u001b[0m \u001b[1m0s\u001b[0m 4ms/step - loss: 306635.0000 - root_mean_squared_error: 330882.4375 - val_loss: 316351.5625 - val_root_mean_squared_error: 341280.6875\n",
            "Epoch 68/100\n",
            "\u001b[1m25/25\u001b[0m \u001b[32m━━━━━━━━━━━━━━━━━━━━\u001b[0m\u001b[37m\u001b[0m \u001b[1m0s\u001b[0m 4ms/step - loss: 302288.7812 - root_mean_squared_error: 327243.4062 - val_loss: 316327.6250 - val_root_mean_squared_error: 341259.5938\n",
            "Epoch 69/100\n",
            "\u001b[1m25/25\u001b[0m \u001b[32m━━━━━━━━━━━━━━━━━━━━\u001b[0m\u001b[37m\u001b[0m \u001b[1m0s\u001b[0m 4ms/step - loss: 302432.6562 - root_mean_squared_error: 326627.3125 - val_loss: 316304.1562 - val_root_mean_squared_error: 341239.2188\n",
            "Epoch 70/100\n",
            "\u001b[1m25/25\u001b[0m \u001b[32m━━━━━━━━━━━━━━━━━━━━\u001b[0m\u001b[37m\u001b[0m \u001b[1m0s\u001b[0m 4ms/step - loss: 297281.5312 - root_mean_squared_error: 321984.5000 - val_loss: 316280.0938 - val_root_mean_squared_error: 341217.8125\n",
            "Epoch 71/100\n",
            "\u001b[1m25/25\u001b[0m \u001b[32m━━━━━━━━━━━━━━━━━━━━\u001b[0m\u001b[37m\u001b[0m \u001b[1m0s\u001b[0m 4ms/step - loss: 303256.2188 - root_mean_squared_error: 328464.9062 - val_loss: 316256.2812 - val_root_mean_squared_error: 341196.4375\n",
            "Epoch 72/100\n",
            "\u001b[1m25/25\u001b[0m \u001b[32m━━━━━━━━━━━━━━━━━━━━\u001b[0m\u001b[37m\u001b[0m \u001b[1m0s\u001b[0m 4ms/step - loss: 305281.0938 - root_mean_squared_error: 330205.2812 - val_loss: 316232.3125 - val_root_mean_squared_error: 341175.2188\n",
            "Epoch 73/100\n",
            "\u001b[1m25/25\u001b[0m \u001b[32m━━━━━━━━━━━━━━━━━━━━\u001b[0m\u001b[37m\u001b[0m \u001b[1m0s\u001b[0m 4ms/step - loss: 303083.3750 - root_mean_squared_error: 327651.2188 - val_loss: 316208.1875 - val_root_mean_squared_error: 341153.3438\n",
            "Epoch 74/100\n",
            "\u001b[1m25/25\u001b[0m \u001b[32m━━━━━━━━━━━━━━━━━━━━\u001b[0m\u001b[37m\u001b[0m \u001b[1m0s\u001b[0m 6ms/step - loss: 307957.2188 - root_mean_squared_error: 332413.6875 - val_loss: 316183.9062 - val_root_mean_squared_error: 341131.1875\n",
            "Epoch 75/100\n",
            "\u001b[1m25/25\u001b[0m \u001b[32m━━━━━━━━━━━━━━━━━━━━\u001b[0m\u001b[37m\u001b[0m \u001b[1m0s\u001b[0m 4ms/step - loss: 308419.0625 - root_mean_squared_error: 334099.9062 - val_loss: 316160.4375 - val_root_mean_squared_error: 341110.9062\n",
            "Epoch 76/100\n",
            "\u001b[1m25/25\u001b[0m \u001b[32m━━━━━━━━━━━━━━━━━━━━\u001b[0m\u001b[37m\u001b[0m \u001b[1m0s\u001b[0m 4ms/step - loss: 313121.4375 - root_mean_squared_error: 337625.4375 - val_loss: 316136.1250 - val_root_mean_squared_error: 341088.2500\n",
            "Epoch 77/100\n",
            "\u001b[1m25/25\u001b[0m \u001b[32m━━━━━━━━━━━━━━━━━━━━\u001b[0m\u001b[37m\u001b[0m \u001b[1m0s\u001b[0m 4ms/step - loss: 302109.5312 - root_mean_squared_error: 327641.1875 - val_loss: 316111.6875 - val_root_mean_squared_error: 341067.6562\n",
            "Epoch 78/100\n",
            "\u001b[1m25/25\u001b[0m \u001b[32m━━━━━━━━━━━━━━━━━━━━\u001b[0m\u001b[37m\u001b[0m \u001b[1m0s\u001b[0m 4ms/step - loss: 296855.1562 - root_mean_squared_error: 321371.7188 - val_loss: 316088.2812 - val_root_mean_squared_error: 341047.3438\n",
            "Epoch 79/100\n",
            "\u001b[1m25/25\u001b[0m \u001b[32m━━━━━━━━━━━━━━━━━━━━\u001b[0m\u001b[37m\u001b[0m \u001b[1m0s\u001b[0m 4ms/step - loss: 306929.0312 - root_mean_squared_error: 331279.6250 - val_loss: 316063.9375 - val_root_mean_squared_error: 341024.6250\n",
            "Epoch 80/100\n",
            "\u001b[1m25/25\u001b[0m \u001b[32m━━━━━━━━━━━━━━━━━━━━\u001b[0m\u001b[37m\u001b[0m \u001b[1m0s\u001b[0m 4ms/step - loss: 302527.8125 - root_mean_squared_error: 327148.8125 - val_loss: 316040.1250 - val_root_mean_squared_error: 341003.9062\n",
            "Epoch 81/100\n",
            "\u001b[1m25/25\u001b[0m \u001b[32m━━━━━━━━━━━━━━━━━━━━\u001b[0m\u001b[37m\u001b[0m \u001b[1m0s\u001b[0m 5ms/step - loss: 308201.3750 - root_mean_squared_error: 332128.9688 - val_loss: 316016.6562 - val_root_mean_squared_error: 340982.1875\n",
            "Epoch 82/100\n",
            "\u001b[1m25/25\u001b[0m \u001b[32m━━━━━━━━━━━━━━━━━━━━\u001b[0m\u001b[37m\u001b[0m \u001b[1m0s\u001b[0m 4ms/step - loss: 306747.6250 - root_mean_squared_error: 331728.3438 - val_loss: 315992.5312 - val_root_mean_squared_error: 340961.2812\n",
            "Epoch 83/100\n",
            "\u001b[1m25/25\u001b[0m \u001b[32m━━━━━━━━━━━━━━━━━━━━\u001b[0m\u001b[37m\u001b[0m \u001b[1m0s\u001b[0m 4ms/step - loss: 306344.9375 - root_mean_squared_error: 332189.1250 - val_loss: 315967.9688 - val_root_mean_squared_error: 340939.2812\n",
            "Epoch 84/100\n",
            "\u001b[1m25/25\u001b[0m \u001b[32m━━━━━━━━━━━━━━━━━━━━\u001b[0m\u001b[37m\u001b[0m \u001b[1m0s\u001b[0m 4ms/step - loss: 306368.7188 - root_mean_squared_error: 331698.2500 - val_loss: 315944.4688 - val_root_mean_squared_error: 340917.7188\n",
            "Epoch 85/100\n",
            "\u001b[1m25/25\u001b[0m \u001b[32m━━━━━━━━━━━━━━━━━━━━\u001b[0m\u001b[37m\u001b[0m \u001b[1m0s\u001b[0m 4ms/step - loss: 304925.5000 - root_mean_squared_error: 330404.9375 - val_loss: 315920.0938 - val_root_mean_squared_error: 340896.0312\n",
            "Epoch 86/100\n",
            "\u001b[1m25/25\u001b[0m \u001b[32m━━━━━━━━━━━━━━━━━━━━\u001b[0m\u001b[37m\u001b[0m \u001b[1m0s\u001b[0m 4ms/step - loss: 301087.1250 - root_mean_squared_error: 325333.1562 - val_loss: 315897.2500 - val_root_mean_squared_error: 340876.7500\n",
            "Epoch 87/100\n",
            "\u001b[1m25/25\u001b[0m \u001b[32m━━━━━━━━━━━━━━━━━━━━\u001b[0m\u001b[37m\u001b[0m \u001b[1m0s\u001b[0m 4ms/step - loss: 307059.7500 - root_mean_squared_error: 331303.5938 - val_loss: 315872.8750 - val_root_mean_squared_error: 340854.4062\n",
            "Epoch 88/100\n",
            "\u001b[1m25/25\u001b[0m \u001b[32m━━━━━━━━━━━━━━━━━━━━\u001b[0m\u001b[37m\u001b[0m \u001b[1m0s\u001b[0m 6ms/step - loss: 313393.3438 - root_mean_squared_error: 339162.5625 - val_loss: 315848.6250 - val_root_mean_squared_error: 340832.0625\n",
            "Epoch 89/100\n",
            "\u001b[1m25/25\u001b[0m \u001b[32m━━━━━━━━━━━━━━━━━━━━\u001b[0m\u001b[37m\u001b[0m \u001b[1m0s\u001b[0m 4ms/step - loss: 307406.5625 - root_mean_squared_error: 331396.4062 - val_loss: 315824.5312 - val_root_mean_squared_error: 340810.9062\n",
            "Epoch 90/100\n",
            "\u001b[1m25/25\u001b[0m \u001b[32m━━━━━━━━━━━━━━━━━━━━\u001b[0m\u001b[37m\u001b[0m \u001b[1m0s\u001b[0m 4ms/step - loss: 301226.2500 - root_mean_squared_error: 326991.4688 - val_loss: 315801.5625 - val_root_mean_squared_error: 340791.4062\n",
            "Epoch 91/100\n",
            "\u001b[1m25/25\u001b[0m \u001b[32m━━━━━━━━━━━━━━━━━━━━\u001b[0m\u001b[37m\u001b[0m \u001b[1m0s\u001b[0m 4ms/step - loss: 307947.6875 - root_mean_squared_error: 332285.7188 - val_loss: 315777.1562 - val_root_mean_squared_error: 340768.9375\n",
            "Epoch 92/100\n",
            "\u001b[1m25/25\u001b[0m \u001b[32m━━━━━━━━━━━━━━━━━━━━\u001b[0m\u001b[37m\u001b[0m \u001b[1m0s\u001b[0m 4ms/step - loss: 303747.7500 - root_mean_squared_error: 328032.1250 - val_loss: 315753.3125 - val_root_mean_squared_error: 340747.9062\n",
            "Epoch 93/100\n",
            "\u001b[1m25/25\u001b[0m \u001b[32m━━━━━━━━━━━━━━━━━━━━\u001b[0m\u001b[37m\u001b[0m \u001b[1m0s\u001b[0m 4ms/step - loss: 298850.2500 - root_mean_squared_error: 323896.9688 - val_loss: 315729.6250 - val_root_mean_squared_error: 340728.0625\n",
            "Epoch 94/100\n",
            "\u001b[1m25/25\u001b[0m \u001b[32m━━━━━━━━━━━━━━━━━━━━\u001b[0m\u001b[37m\u001b[0m \u001b[1m0s\u001b[0m 4ms/step - loss: 301555.0000 - root_mean_squared_error: 325950.6250 - val_loss: 315705.6562 - val_root_mean_squared_error: 340706.0000\n",
            "Epoch 95/100\n",
            "\u001b[1m25/25\u001b[0m \u001b[32m━━━━━━━━━━━━━━━━━━━━\u001b[0m\u001b[37m\u001b[0m \u001b[1m0s\u001b[0m 4ms/step - loss: 306678.7500 - root_mean_squared_error: 333037.9062 - val_loss: 315680.9375 - val_root_mean_squared_error: 340684.0312\n",
            "Epoch 96/100\n",
            "\u001b[1m25/25\u001b[0m \u001b[32m━━━━━━━━━━━━━━━━━━━━\u001b[0m\u001b[37m\u001b[0m \u001b[1m0s\u001b[0m 4ms/step - loss: 307477.4375 - root_mean_squared_error: 331609.2500 - val_loss: 315656.9062 - val_root_mean_squared_error: 340662.1562\n",
            "Epoch 97/100\n",
            "\u001b[1m25/25\u001b[0m \u001b[32m━━━━━━━━━━━━━━━━━━━━\u001b[0m\u001b[37m\u001b[0m \u001b[1m0s\u001b[0m 4ms/step - loss: 300713.6562 - root_mean_squared_error: 325823.5000 - val_loss: 315633.7188 - val_root_mean_squared_error: 340641.6562\n",
            "Epoch 98/100\n",
            "\u001b[1m25/25\u001b[0m \u001b[32m━━━━━━━━━━━━━━━━━━━━\u001b[0m\u001b[37m\u001b[0m \u001b[1m0s\u001b[0m 4ms/step - loss: 308448.2500 - root_mean_squared_error: 332754.0625 - val_loss: 315609.3438 - val_root_mean_squared_error: 340619.8438\n",
            "Epoch 99/100\n",
            "\u001b[1m25/25\u001b[0m \u001b[32m━━━━━━━━━━━━━━━━━━━━\u001b[0m\u001b[37m\u001b[0m \u001b[1m0s\u001b[0m 4ms/step - loss: 301439.4062 - root_mean_squared_error: 326305.3125 - val_loss: 315586.1875 - val_root_mean_squared_error: 340599.5000\n",
            "Epoch 100/100\n",
            "\u001b[1m25/25\u001b[0m \u001b[32m━━━━━━━━━━━━━━━━━━━━\u001b[0m\u001b[37m\u001b[0m \u001b[1m0s\u001b[0m 4ms/step - loss: 293918.1562 - root_mean_squared_error: 318142.6562 - val_loss: 315561.6875 - val_root_mean_squared_error: 340578.3438\n"
          ]
        }
      ]
    },
    {
      "cell_type": "markdown",
      "source": [
        "getting all the loss values and store in a variable, it will print them if we did not store it in loss_history"
      ],
      "metadata": {
        "id": "L9wIaPgIxUyB"
      }
    },
    {
      "cell_type": "code",
      "source": [
        "history.history"
      ],
      "metadata": {
        "colab": {
          "base_uri": "https://localhost:8080/"
        },
        "id": "FJlaINQFxWsr",
        "outputId": "3a336a5b-469f-4eaa-f28f-1b067025465e"
      },
      "execution_count": 61,
      "outputs": [
        {
          "output_type": "execute_result",
          "data": {
            "text/plain": [
              "{'loss': [306465.375,\n",
              "  306439.625,\n",
              "  306414.25,\n",
              "  306388.90625,\n",
              "  306363.40625,\n",
              "  306338.09375,\n",
              "  306312.71875,\n",
              "  306287.21875,\n",
              "  306261.9375,\n",
              "  306236.75,\n",
              "  306211.0625,\n",
              "  306185.75,\n",
              "  306160.28125,\n",
              "  306135.125,\n",
              "  306109.75,\n",
              "  306084.40625,\n",
              "  306058.78125,\n",
              "  306033.4375,\n",
              "  306008.125,\n",
              "  305982.875,\n",
              "  305957.375,\n",
              "  305932.0,\n",
              "  305906.6875,\n",
              "  305881.09375,\n",
              "  305855.8125,\n",
              "  305830.59375,\n",
              "  305805.125,\n",
              "  305779.8125,\n",
              "  305754.3125,\n",
              "  305728.875,\n",
              "  305703.6875,\n",
              "  305678.375,\n",
              "  305652.75,\n",
              "  305627.375,\n",
              "  305602.25,\n",
              "  305576.625,\n",
              "  305551.40625,\n",
              "  305525.875,\n",
              "  305500.8125,\n",
              "  305475.1875,\n",
              "  305449.84375,\n",
              "  305424.34375,\n",
              "  305399.03125,\n",
              "  305373.59375,\n",
              "  305348.375,\n",
              "  305322.90625,\n",
              "  305297.53125,\n",
              "  305272.09375,\n",
              "  305246.8125,\n",
              "  305221.46875,\n",
              "  305196.0,\n",
              "  305170.625,\n",
              "  305145.375,\n",
              "  305119.8125,\n",
              "  305094.65625,\n",
              "  305069.1875,\n",
              "  305043.84375,\n",
              "  305018.40625,\n",
              "  304993.09375,\n",
              "  304967.46875,\n",
              "  304942.1875,\n",
              "  304916.90625,\n",
              "  304891.8125,\n",
              "  304865.96875,\n",
              "  304840.71875,\n",
              "  304815.5625,\n",
              "  304789.75,\n",
              "  304764.53125,\n",
              "  304739.34375,\n",
              "  304713.875,\n",
              "  304688.53125,\n",
              "  304662.875,\n",
              "  304637.6875,\n",
              "  304612.25,\n",
              "  304586.9375,\n",
              "  304561.5625,\n",
              "  304536.25,\n",
              "  304510.6875,\n",
              "  304485.46875,\n",
              "  304460.03125,\n",
              "  304434.78125,\n",
              "  304409.1875,\n",
              "  304383.90625,\n",
              "  304358.46875,\n",
              "  304333.1875,\n",
              "  304307.9375,\n",
              "  304282.21875,\n",
              "  304257.0,\n",
              "  304231.625,\n",
              "  304206.15625,\n",
              "  304180.875,\n",
              "  304155.46875,\n",
              "  304130.40625,\n",
              "  304104.71875,\n",
              "  304079.1875,\n",
              "  304054.09375,\n",
              "  304028.5625,\n",
              "  304003.25,\n",
              "  303977.8125,\n",
              "  303952.59375],\n",
              " 'root_mean_squared_error': [331172.71875,\n",
              "  331150.53125,\n",
              "  331127.59375,\n",
              "  331105.78125,\n",
              "  331082.75,\n",
              "  331060.3125,\n",
              "  331038.0,\n",
              "  331015.3125,\n",
              "  330993.40625,\n",
              "  330970.96875,\n",
              "  330948.125,\n",
              "  330925.125,\n",
              "  330902.53125,\n",
              "  330880.96875,\n",
              "  330858.40625,\n",
              "  330835.78125,\n",
              "  330813.28125,\n",
              "  330790.40625,\n",
              "  330768.09375,\n",
              "  330746.34375,\n",
              "  330723.46875,\n",
              "  330700.75,\n",
              "  330678.28125,\n",
              "  330655.8125,\n",
              "  330633.40625,\n",
              "  330610.46875,\n",
              "  330588.8125,\n",
              "  330566.6875,\n",
              "  330543.25,\n",
              "  330520.625,\n",
              "  330497.5625,\n",
              "  330475.875,\n",
              "  330453.21875,\n",
              "  330431.09375,\n",
              "  330408.5625,\n",
              "  330385.65625,\n",
              "  330363.5,\n",
              "  330340.78125,\n",
              "  330318.625,\n",
              "  330295.84375,\n",
              "  330273.21875,\n",
              "  330250.59375,\n",
              "  330228.4375,\n",
              "  330205.9375,\n",
              "  330183.4375,\n",
              "  330161.65625,\n",
              "  330138.65625,\n",
              "  330115.59375,\n",
              "  330093.0,\n",
              "  330071.1875,\n",
              "  330048.53125,\n",
              "  330025.71875,\n",
              "  330003.625,\n",
              "  329981.09375,\n",
              "  329959.09375,\n",
              "  329936.28125,\n",
              "  329914.0625,\n",
              "  329891.34375,\n",
              "  329868.625,\n",
              "  329846.21875,\n",
              "  329823.34375,\n",
              "  329800.875,\n",
              "  329778.1875,\n",
              "  329755.71875,\n",
              "  329733.65625,\n",
              "  329711.625,\n",
              "  329688.46875,\n",
              "  329666.375,\n",
              "  329644.4375,\n",
              "  329622.3125,\n",
              "  329599.375,\n",
              "  329576.71875,\n",
              "  329554.5,\n",
              "  329531.21875,\n",
              "  329509.0,\n",
              "  329486.15625,\n",
              "  329464.5,\n",
              "  329442.5,\n",
              "  329419.5,\n",
              "  329396.9375,\n",
              "  329374.40625,\n",
              "  329351.75,\n",
              "  329329.5625,\n",
              "  329306.59375,\n",
              "  329284.125,\n",
              "  329262.34375,\n",
              "  329239.59375,\n",
              "  329216.5625,\n",
              "  329194.21875,\n",
              "  329172.03125,\n",
              "  329149.71875,\n",
              "  329127.28125,\n",
              "  329105.6875,\n",
              "  329082.9375,\n",
              "  329059.96875,\n",
              "  329037.46875,\n",
              "  329015.03125,\n",
              "  328992.3125,\n",
              "  328970.125,\n",
              "  328948.21875],\n",
              " 'val_loss': [317932.09375,\n",
              "  317908.40625,\n",
              "  317884.25,\n",
              "  317860.625,\n",
              "  317836.375,\n",
              "  317811.9375,\n",
              "  317789.375,\n",
              "  317765.1875,\n",
              "  317740.53125,\n",
              "  317717.75,\n",
              "  317693.21875,\n",
              "  317669.59375,\n",
              "  317645.0625,\n",
              "  317621.71875,\n",
              "  317597.3125,\n",
              "  317573.625,\n",
              "  317549.40625,\n",
              "  317524.6875,\n",
              "  317501.625,\n",
              "  317478.15625,\n",
              "  317453.90625,\n",
              "  317429.90625,\n",
              "  317405.78125,\n",
              "  317381.40625,\n",
              "  317357.9375,\n",
              "  317333.75,\n",
              "  317309.875,\n",
              "  317286.09375,\n",
              "  317261.71875,\n",
              "  317238.1875,\n",
              "  317213.8125,\n",
              "  317189.9375,\n",
              "  317166.1875,\n",
              "  317142.09375,\n",
              "  317118.0625,\n",
              "  317094.09375,\n",
              "  317070.03125,\n",
              "  317046.0625,\n",
              "  317022.0,\n",
              "  316998.5625,\n",
              "  316974.53125,\n",
              "  316950.1875,\n",
              "  316926.25,\n",
              "  316902.53125,\n",
              "  316878.84375,\n",
              "  316855.1875,\n",
              "  316830.1875,\n",
              "  316806.125,\n",
              "  316782.875,\n",
              "  316759.125,\n",
              "  316734.25,\n",
              "  316710.96875,\n",
              "  316687.0625,\n",
              "  316662.71875,\n",
              "  316639.375,\n",
              "  316615.21875,\n",
              "  316591.28125,\n",
              "  316567.40625,\n",
              "  316543.40625,\n",
              "  316519.09375,\n",
              "  316494.84375,\n",
              "  316471.25,\n",
              "  316447.21875,\n",
              "  316423.15625,\n",
              "  316399.59375,\n",
              "  316375.5,\n",
              "  316351.5625,\n",
              "  316327.625,\n",
              "  316304.15625,\n",
              "  316280.09375,\n",
              "  316256.28125,\n",
              "  316232.3125,\n",
              "  316208.1875,\n",
              "  316183.90625,\n",
              "  316160.4375,\n",
              "  316136.125,\n",
              "  316111.6875,\n",
              "  316088.28125,\n",
              "  316063.9375,\n",
              "  316040.125,\n",
              "  316016.65625,\n",
              "  315992.53125,\n",
              "  315967.96875,\n",
              "  315944.46875,\n",
              "  315920.09375,\n",
              "  315897.25,\n",
              "  315872.875,\n",
              "  315848.625,\n",
              "  315824.53125,\n",
              "  315801.5625,\n",
              "  315777.15625,\n",
              "  315753.3125,\n",
              "  315729.625,\n",
              "  315705.65625,\n",
              "  315680.9375,\n",
              "  315656.90625,\n",
              "  315633.71875,\n",
              "  315609.34375,\n",
              "  315586.1875,\n",
              "  315561.6875],\n",
              " 'val_root_mean_squared_error': [342689.0625,\n",
              "  342668.6875,\n",
              "  342646.4375,\n",
              "  342626.03125,\n",
              "  342604.1875,\n",
              "  342582.46875,\n",
              "  342562.125,\n",
              "  342540.6875,\n",
              "  342519.03125,\n",
              "  342499.03125,\n",
              "  342476.40625,\n",
              "  342454.96875,\n",
              "  342433.375,\n",
              "  342413.59375,\n",
              "  342391.0625,\n",
              "  342369.9375,\n",
              "  342348.46875,\n",
              "  342326.15625,\n",
              "  342306.03125,\n",
              "  342285.625,\n",
              "  342263.46875,\n",
              "  342241.9375,\n",
              "  342220.3125,\n",
              "  342199.4375,\n",
              "  342177.75,\n",
              "  342156.15625,\n",
              "  342136.4375,\n",
              "  342113.9375,\n",
              "  342092.25,\n",
              "  342070.78125,\n",
              "  342048.3125,\n",
              "  342028.28125,\n",
              "  342006.6875,\n",
              "  341985.625,\n",
              "  341963.6875,\n",
              "  341942.78125,\n",
              "  341921.46875,\n",
              "  341899.34375,\n",
              "  341878.9375,\n",
              "  341857.1875,\n",
              "  341835.59375,\n",
              "  341814.15625,\n",
              "  341793.125,\n",
              "  341771.84375,\n",
              "  341750.625,\n",
              "  341730.6875,\n",
              "  341707.46875,\n",
              "  341685.34375,\n",
              "  341665.15625,\n",
              "  341644.1875,\n",
              "  341621.96875,\n",
              "  341600.53125,\n",
              "  341579.71875,\n",
              "  341557.90625,\n",
              "  341537.59375,\n",
              "  341515.75,\n",
              "  341494.71875,\n",
              "  341473.25,\n",
              "  341452.03125,\n",
              "  341430.34375,\n",
              "  341408.5,\n",
              "  341386.625,\n",
              "  341365.3125,\n",
              "  341344.34375,\n",
              "  341323.34375,\n",
              "  341302.375,\n",
              "  341280.6875,\n",
              "  341259.59375,\n",
              "  341239.21875,\n",
              "  341217.8125,\n",
              "  341196.4375,\n",
              "  341175.21875,\n",
              "  341153.34375,\n",
              "  341131.1875,\n",
              "  341110.90625,\n",
              "  341088.25,\n",
              "  341067.65625,\n",
              "  341047.34375,\n",
              "  341024.625,\n",
              "  341003.90625,\n",
              "  340982.1875,\n",
              "  340961.28125,\n",
              "  340939.28125,\n",
              "  340917.71875,\n",
              "  340896.03125,\n",
              "  340876.75,\n",
              "  340854.40625,\n",
              "  340832.0625,\n",
              "  340810.90625,\n",
              "  340791.40625,\n",
              "  340768.9375,\n",
              "  340747.90625,\n",
              "  340728.0625,\n",
              "  340706.0,\n",
              "  340684.03125,\n",
              "  340662.15625,\n",
              "  340641.65625,\n",
              "  340619.84375,\n",
              "  340599.5,\n",
              "  340578.34375]}"
            ]
          },
          "metadata": {},
          "execution_count": 61
        }
      ]
    },
    {
      "cell_type": "markdown",
      "source": [
        "let's plot the losses over epochs to trace it"
      ],
      "metadata": {
        "id": "wC0a4Eb8xuXn"
      }
    },
    {
      "cell_type": "code",
      "source": [
        "plt.plot(history.history['loss'])\n",
        "plt.plot(history.history['val_loss'])\n",
        "plt.title('model loss')\n",
        "plt.xlabel('epochs')\n",
        "plt.ylabel('loss')\n",
        "plt.legend(['loss' , 'val_loss'])\n",
        "plt.show()"
      ],
      "metadata": {
        "colab": {
          "base_uri": "https://localhost:8080/",
          "height": 472
        },
        "id": "naLDNSIuxyke",
        "outputId": "6a78372b-c94d-4c36-a078-550328333ffe"
      },
      "execution_count": 62,
      "outputs": [
        {
          "output_type": "display_data",
          "data": {
            "text/plain": [
              "<Figure size 640x480 with 1 Axes>"
            ],
            "image/png": "[encoded data removed]"
          },
          "metadata": {}
        }
      ]
    },
    {
      "cell_type": "code",
      "source": [
        "history.history"
      ],
      "metadata": {
        "colab": {
          "base_uri": "https://localhost:8080/"
        },
        "id": "VUTum97q0c59",
        "outputId": "66896073-36b1-48dc-a03f-034e00b4727c"
      },
      "execution_count": 41,
      "outputs": [
        {
          "output_type": "execute_result",
          "data": {
            "text/plain": [
              "{'loss': [308513.84375,\n",
              "  308513.8125,\n",
              "  308513.75,\n",
              "  308513.71875,\n",
              "  308513.6875,\n",
              "  308513.65625,\n",
              "  308513.59375,\n",
              "  308513.59375,\n",
              "  308513.5,\n",
              "  308513.5,\n",
              "  308513.53125,\n",
              "  308513.4375,\n",
              "  308513.4375,\n",
              "  308513.4375,\n",
              "  308513.375,\n",
              "  308513.34375,\n",
              "  308513.34375,\n",
              "  308513.28125,\n",
              "  308513.25,\n",
              "  308513.21875,\n",
              "  308513.15625,\n",
              "  308513.15625,\n",
              "  308513.09375,\n",
              "  308513.09375,\n",
              "  308513.03125,\n",
              "  308513.03125,\n",
              "  308513.03125,\n",
              "  308512.9375,\n",
              "  308512.96875,\n",
              "  308512.90625,\n",
              "  308512.9375,\n",
              "  308512.84375,\n",
              "  308512.84375,\n",
              "  308512.78125,\n",
              "  308512.6875,\n",
              "  308512.71875,\n",
              "  308512.625,\n",
              "  308512.59375,\n",
              "  308512.59375,\n",
              "  308512.5625,\n",
              "  308512.53125,\n",
              "  308512.46875,\n",
              "  308512.4375,\n",
              "  308512.46875,\n",
              "  308512.40625,\n",
              "  308512.40625,\n",
              "  308512.375,\n",
              "  308512.3125,\n",
              "  308512.28125,\n",
              "  308512.28125,\n",
              "  308512.21875,\n",
              "  308512.1875,\n",
              "  308512.125,\n",
              "  308512.125,\n",
              "  308512.0625,\n",
              "  308512.0625,\n",
              "  308512.03125,\n",
              "  308512.0,\n",
              "  308511.9375,\n",
              "  308511.9375,\n",
              "  308511.90625,\n",
              "  308511.84375,\n",
              "  308511.875,\n",
              "  308511.78125,\n",
              "  308511.75,\n",
              "  308511.75,\n",
              "  308511.71875,\n",
              "  308511.6875,\n",
              "  308511.6875,\n",
              "  308511.625,\n",
              "  308511.5625,\n",
              "  308511.5,\n",
              "  308511.46875,\n",
              "  308511.5,\n",
              "  308511.40625,\n",
              "  308511.4375,\n",
              "  308511.375,\n",
              "  308511.375,\n",
              "  308511.28125,\n",
              "  308511.3125,\n",
              "  308511.1875,\n",
              "  308511.21875,\n",
              "  308511.1875,\n",
              "  308511.15625,\n",
              "  308511.09375,\n",
              "  308511.09375,\n",
              "  308511.0625,\n",
              "  308511.0,\n",
              "  308510.9375,\n",
              "  308510.96875,\n",
              "  308510.96875,\n",
              "  308510.875,\n",
              "  308510.90625,\n",
              "  308510.875,\n",
              "  308510.84375,\n",
              "  308510.75,\n",
              "  308510.75,\n",
              "  308510.71875,\n",
              "  308510.65625,\n",
              "  308510.625],\n",
              " 'root_mean_squared_error': [333255.40625,\n",
              "  333255.375,\n",
              "  333255.34375,\n",
              "  333255.34375,\n",
              "  333255.28125,\n",
              "  333255.25,\n",
              "  333255.21875,\n",
              "  333255.15625,\n",
              "  333255.15625,\n",
              "  333255.15625,\n",
              "  333255.09375,\n",
              "  333255.09375,\n",
              "  333255.0625,\n",
              "  333255.03125,\n",
              "  333255.0,\n",
              "  333254.9375,\n",
              "  333254.9375,\n",
              "  333254.90625,\n",
              "  333254.90625,\n",
              "  333254.84375,\n",
              "  333254.8125,\n",
              "  333254.78125,\n",
              "  333254.75,\n",
              "  333254.75,\n",
              "  333254.6875,\n",
              "  333254.65625,\n",
              "  333254.625,\n",
              "  333254.59375,\n",
              "  333254.5625,\n",
              "  333254.53125,\n",
              "  333254.53125,\n",
              "  333254.46875,\n",
              "  333254.46875,\n",
              "  333254.4375,\n",
              "  333254.40625,\n",
              "  333254.375,\n",
              "  333254.34375,\n",
              "  333254.3125,\n",
              "  333254.28125,\n",
              "  333254.25,\n",
              "  333254.21875,\n",
              "  333254.1875,\n",
              "  333254.15625,\n",
              "  333254.125,\n",
              "  333254.09375,\n",
              "  333254.0625,\n",
              "  333254.03125,\n",
              "  333254.03125,\n",
              "  333254.0,\n",
              "  333253.9375,\n",
              "  333253.96875,\n",
              "  333253.90625,\n",
              "  333253.90625,\n",
              "  333253.8125,\n",
              "  333253.84375,\n",
              "  333253.78125,\n",
              "  333253.75,\n",
              "  333253.71875,\n",
              "  333253.6875,\n",
              "  333253.65625,\n",
              "  333253.625,\n",
              "  333253.59375,\n",
              "  333253.5625,\n",
              "  333253.5625,\n",
              "  333253.53125,\n",
              "  333253.5,\n",
              "  333253.46875,\n",
              "  333253.4375,\n",
              "  333253.375,\n",
              "  333253.375,\n",
              "  333253.34375,\n",
              "  333253.3125,\n",
              "  333253.28125,\n",
              "  333253.28125,\n",
              "  333253.21875,\n",
              "  333253.21875,\n",
              "  333253.15625,\n",
              "  333253.09375,\n",
              "  333253.09375,\n",
              "  333253.03125,\n",
              "  333253.03125,\n",
              "  333253.03125,\n",
              "  333252.96875,\n",
              "  333252.9375,\n",
              "  333252.9375,\n",
              "  333252.90625,\n",
              "  333252.84375,\n",
              "  333252.8125,\n",
              "  333252.8125,\n",
              "  333252.75,\n",
              "  333252.75,\n",
              "  333252.6875,\n",
              "  333252.65625,\n",
              "  333252.625,\n",
              "  333252.65625,\n",
              "  333252.59375,\n",
              "  333252.5625,\n",
              "  333252.53125,\n",
              "  333252.5,\n",
              "  333252.46875]}"
            ]
          },
          "metadata": {},
          "execution_count": 41
        }
      ]
    },
    {
      "cell_type": "markdown",
      "source": [
        "another way to measure the model performance rather than RMSE is model evaluation > model.evaluate(x,y)"
      ],
      "metadata": {
        "id": "qLJN166e1E5i"
      }
    },
    {
      "cell_type": "markdown",
      "source": [
        "model evaluation is used on the validation and test data not the training"
      ],
      "metadata": {
        "id": "fNXkGo4d-qG-"
      }
    },
    {
      "cell_type": "markdown",
      "source": [
        "evaluate on validation data"
      ],
      "metadata": {
        "id": "9t8mVia7AiMT"
      }
    },
    {
      "cell_type": "code",
      "source": [
        "model.evaluate(x_val,y_val)"
      ],
      "metadata": {
        "colab": {
          "base_uri": "https://localhost:8080/"
        },
        "id": "HjwKIdIJ1M5-",
        "outputId": "b3fede07-fc86-4358-aa54-9f46c8f4a27f"
      },
      "execution_count": 63,
      "outputs": [
        {
          "output_type": "stream",
          "name": "stdout",
          "text": [
            "\u001b[1m4/4\u001b[0m \u001b[32m━━━━━━━━━━━━━━━━━━━━\u001b[0m\u001b[37m\u001b[0m \u001b[1m0s\u001b[0m 9ms/step - loss: 315456.5000 - root_mean_squared_error: 340039.4062 \n"
          ]
        },
        {
          "output_type": "execute_result",
          "data": {
            "text/plain": [
              "[315561.6875, 340578.34375]"
            ]
          },
          "metadata": {},
          "execution_count": 63
        }
      ]
    },
    {
      "cell_type": "markdown",
      "source": [
        "eavaluate on testing data"
      ],
      "metadata": {
        "id": "RNa-IZOGAlRN"
      }
    },
    {
      "cell_type": "code",
      "source": [
        "model.evaluate(x_test,y_test)"
      ],
      "metadata": {
        "colab": {
          "base_uri": "https://localhost:8080/"
        },
        "id": "MzvrOOGe-4XC",
        "outputId": "2d3be15c-39fc-44be-c4a5-97d2cac82226"
      },
      "execution_count": 64,
      "outputs": [
        {
          "output_type": "stream",
          "name": "stdout",
          "text": [
            "\u001b[1m4/4\u001b[0m \u001b[32m━━━━━━━━━━━━━━━━━━━━\u001b[0m\u001b[37m\u001b[0m \u001b[1m0s\u001b[0m 9ms/step - loss: 315749.3750 - root_mean_squared_error: 341053.9375 \n"
          ]
        },
        {
          "output_type": "execute_result",
          "data": {
            "text/plain": [
              "[313008.8125, 338036.53125]"
            ]
          },
          "metadata": {},
          "execution_count": 64
        }
      ]
    },
    {
      "cell_type": "markdown",
      "source": [
        "So now let's test it given features of any unseen car to see the price"
      ],
      "metadata": {
        "id": "BYM1toQxAqcB"
      }
    },
    {
      "cell_type": "markdown",
      "source": [
        "we use model.predict   for testing"
      ],
      "metadata": {
        "id": "mbTOuQcvBFQT"
      }
    },
    {
      "cell_type": "code",
      "source": [
        "x_test.shape"
      ],
      "metadata": {
        "colab": {
          "base_uri": "https://localhost:8080/"
        },
        "id": "xisaPbJkA0LV",
        "outputId": "03a8f1a3-b8ef-436f-b415-256e3460f9ca"
      },
      "execution_count": 65,
      "outputs": [
        {
          "output_type": "execute_result",
          "data": {
            "text/plain": [
              "TensorShape([100, 8])"
            ]
          },
          "metadata": {},
          "execution_count": 65
        }
      ]
    },
    {
      "cell_type": "markdown",
      "source": [
        "predicting tha prices for all unseen data"
      ],
      "metadata": {
        "id": "Ocrb8qJ5BVdp"
      }
    },
    {
      "cell_type": "code",
      "source": [
        "model.predict(x_test)"
      ],
      "metadata": {
        "colab": {
          "base_uri": "https://localhost:8080/"
        },
        "id": "65rCeJA0BK6g",
        "outputId": "ef751a31-74f3-4a6d-8faf-45b5f83b7c59"
      },
      "execution_count": 66,
      "outputs": [
        {
          "output_type": "stream",
          "name": "stdout",
          "text": [
            "\u001b[1m4/4\u001b[0m \u001b[32m━━━━━━━━━━━━━━━━━━━━\u001b[0m\u001b[37m\u001b[0m \u001b[1m0s\u001b[0m 14ms/step\n"
          ]
        },
        {
          "output_type": "execute_result",
          "data": {
            "text/plain": [
              "array([[2256.3745 ],\n",
              "       [3349.6387 ],\n",
              "       [1748.883  ],\n",
              "       [3149.7769 ],\n",
              "       [2626.384  ],\n",
              "       [2245.227  ],\n",
              "       [1326.1884 ],\n",
              "       [1161.5713 ],\n",
              "       [2900.7078 ],\n",
              "       [1874.1829 ],\n",
              "       [2289.1833 ],\n",
              "       [1200.9004 ],\n",
              "       [1277.9788 ],\n",
              "       [2941.4734 ],\n",
              "       [2983.2898 ],\n",
              "       [2685.27   ],\n",
              "       [1859.1655 ],\n",
              "       [3057.0264 ],\n",
              "       [2372.143  ],\n",
              "       [ 956.2046 ],\n",
              "       [2231.1538 ],\n",
              "       [1560.0521 ],\n",
              "       [1524.771  ],\n",
              "       [1853.6581 ],\n",
              "       [2956.4824 ],\n",
              "       [2747.1404 ],\n",
              "       [1950.9939 ],\n",
              "       [2221.9255 ],\n",
              "       [2016.1907 ],\n",
              "       [ 986.3506 ],\n",
              "       [3074.0427 ],\n",
              "       [2733.8113 ],\n",
              "       [3706.803  ],\n",
              "       [1375.1227 ],\n",
              "       [2603.4749 ],\n",
              "       [1453.7705 ],\n",
              "       [2929.563  ],\n",
              "       [2020.6257 ],\n",
              "       [2284.982  ],\n",
              "       [3085.685  ],\n",
              "       [2061.7634 ],\n",
              "       [2019.1638 ],\n",
              "       [2604.5461 ],\n",
              "       [2001.0183 ],\n",
              "       [2054.3113 ],\n",
              "       [1606.8674 ],\n",
              "       [2975.5396 ],\n",
              "       [3792.4097 ],\n",
              "       [1584.3083 ],\n",
              "       [2337.5317 ],\n",
              "       [2477.165  ],\n",
              "       [3327.8984 ],\n",
              "       [2578.525  ],\n",
              "       [2830.5403 ],\n",
              "       [ 830.49634],\n",
              "       [2139.9277 ],\n",
              "       [1689.5862 ],\n",
              "       [1798.4175 ],\n",
              "       [2977.4863 ],\n",
              "       [2327.1108 ],\n",
              "       [2027.3815 ],\n",
              "       [2729.6528 ],\n",
              "       [2268.146  ],\n",
              "       [2338.9258 ],\n",
              "       [2932.572  ],\n",
              "       [2701.5566 ],\n",
              "       [2245.637  ],\n",
              "       [1704.707  ],\n",
              "       [1849.9727 ],\n",
              "       [2138.86   ],\n",
              "       [2762.3508 ],\n",
              "       [1213.1912 ],\n",
              "       [1896.8903 ],\n",
              "       [2327.3662 ],\n",
              "       [2358.0508 ],\n",
              "       [1478.5769 ],\n",
              "       [2286.544  ],\n",
              "       [1651.8322 ],\n",
              "       [3507.4585 ],\n",
              "       [2933.244  ],\n",
              "       [2574.243  ],\n",
              "       [3788.5537 ],\n",
              "       [1630.857  ],\n",
              "       [1016.7875 ],\n",
              "       [2646.6123 ],\n",
              "       [1934.8256 ],\n",
              "       [2904.5574 ],\n",
              "       [3377.6748 ],\n",
              "       [2007.6177 ],\n",
              "       [2721.9255 ],\n",
              "       [1774.9618 ],\n",
              "       [2564.4155 ],\n",
              "       [2647.7268 ],\n",
              "       [2960.8303 ],\n",
              "       [ 881.89136],\n",
              "       [3984.2834 ],\n",
              "       [2880.0598 ],\n",
              "       [3286.0552 ],\n",
              "       [3371.4866 ],\n",
              "       [1371.9272 ]], dtype=float32)"
            ]
          },
          "metadata": {},
          "execution_count": 66
        }
      ]
    },
    {
      "cell_type": "code",
      "source": [
        "model.predict(tf.expand_dims(x_test[0] , axis = 0))"
      ],
      "metadata": {
        "colab": {
          "base_uri": "https://localhost:8080/"
        },
        "id": "RTgJBTgZBwey",
        "outputId": "55143942-7cca-44cc-c88c-cc36d9daeaa1"
      },
      "execution_count": 70,
      "outputs": [
        {
          "output_type": "stream",
          "name": "stdout",
          "text": [
            "\u001b[1m1/1\u001b[0m \u001b[32m━━━━━━━━━━━━━━━━━━━━\u001b[0m\u001b[37m\u001b[0m \u001b[1m0s\u001b[0m 51ms/step\n"
          ]
        },
        {
          "output_type": "execute_result",
          "data": {
            "text/plain": [
              "array([[2256.3745]], dtype=float32)"
            ]
          },
          "metadata": {},
          "execution_count": 70
        }
      ]
    }
  ]
}